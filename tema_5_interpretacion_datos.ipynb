{
 "cells": [
  {
   "attachments": {},
   "cell_type": "markdown",
   "metadata": {},
   "source": [
    "![title](./images/logo_nao_digital.png)"
   ]
  },
  {
   "attachments": {},
   "cell_type": "markdown",
   "metadata": {},
   "source": [
    "# Tema 5. Interpretación de datos\n",
    "\n",
    "## 1. Objetivo\n",
    "\n",
    "Una de las labores más complejas que se tienen en el análisis de datos es comunicar de una manera clara y concreta. La presente sección tiene el objeto de proveer un marco de referencia para la escritura de reportes de interpretación de datos en un contexto de negocios.\n",
    "\n",
    "Dicha estructura deberá seguirse como una guia para construir un reporte ejecutivo del análisis de los datos de retrazos de entregas del E-commer Oilst, dirigido al CEO. \n"
   ]
  },
  {
   "attachments": {},
   "cell_type": "markdown",
   "metadata": {},
   "source": [
    "# 2. Análisis e interpretación de datos\n",
    "\n",
    "Cuando realizamos análisis desde un punto de vista científico para un problema del mundo real, uno de los puntos más relevantes es plantear adecuadamente las preguntas que queremos contestar y con las cuales daremos soluciones al problema en cuestión. \n",
    "\n",
    "De forma general, en problemas de análisis exploratorio ello significa tener que explorar data históricas de muchas variables que afectaron un fenómeno y tratar de identificar que combinaciones de éstas o que punto en el tiempo logró afectar el fenómeno hasta orillarlo al punto en el que dicha situación resulta un desafío, como en el caso de los retrasos de la entrega de las órdenes del cliente `Oilst`.\n",
    "\n",
    "En este sentido, las herramientas estadísticas, de probabilidad y visualización nos ayudan a interrogar los datos buscando patrones en los datos nos permitan entender que sucedio, así como diseñar estrategias para intervenir en los sistemas que estudiamos. Sin embargo, debemos entender que los datos únicamente son útiles en el contexto de negocio y que el conocimiento del negocio en donde nos desenvolvemos es la herramienta más poderosa para realizar un análisis fructífero y de utilidad práctica.\n",
    "\n",
    "Concretamente en el caso de Oilst, el análisis de datos que hemos realizado hasta aquí nos lleva a una serie de puntos y preguntas que se desprenden de ellos:\n",
    "\n",
    "1. Oilst tuvo un crecimiento acelerado de ventas, ¿En que periodos de tiempo sucedieron?, ¿su equipo estaría preparada para ese crecimiento o no?\n",
    "2. La entrega de pedidos de órdenes depende de muchos factores, de los que no necesariamente tenemos datos. Sin embargo ¿qué factores si se pueden identificar como relacionados directamente con el retrasos?,\n",
    "3. Aunque hubo retrazos en entregas no todos sucedieron con la misma intensidad en las mismas ciudades o estados ¿donde se focalizaron y porque?,\n",
    "\n",
    "Como vemos, la discusión anterior es realmente una discusión de negocio, pero siempre está motivada por los descubrimientos que el análisis de datos es capaz de traer a la mesa, ¡La meta es convertir esta información en insights de valor!\n",
    "\n",
    "1. Comunicación de los resultados\n",
    "\n",
    "Es vital poder comunicar resultados de un análisis a tomadores de decisiones, de manera que se puedan hacer descripciones precisas sino tambien recomendar y diseñar acciones concretas para resolver problemas. En términos generales, ello se realiza en reportes escritos y presentaciones que de forma clara y concisa precisan los elementos que sustentan nuestro análisis, junto con las conclusiones o recomendaciones del mismo. En alto nivel, un reporte de resultados debe considerar los siguientes elementos\n",
    "\n",
    "* Objetivos: Es fundamental que el reporte incluya una clara definición de los objetivos del análisis de datos, es decir, qué se espera conseguir con el análisis. En el caso de Brasil IA Consulting, esto se refiere a las pregunta del CEO de Oilst\n",
    "\n",
    "* Fuente de datos: se refiere a las fuentes documentales y de datos utilizadas en el análisis, así como su calidad y relevancia. En este punto, tambiés es importante señalar las consideraciones temporales, geográficas o de otro tipo de factores que rodean a los datos del análisis.\n",
    "\n",
    "* Métodos de análisis: se refiere a los métodos de análisis utilizados para abordar el problema, así como los supuestos y limitaciones de los mismos (por ejemplo, temporales, geográficas, de data no disponible, etcétera).\n",
    "\n",
    "* Resultados: Se refiere a comunicar los principales hallazgos derivadas de la metodología implementada, utilizando gráficos y tablas si es necesario para su sustento.\n",
    "\n",
    "* Conclusiones: relativo a las consideraciones a las que llegamos como resultado del estudio,\n",
    "\n",
    "* Recomendaciones y acciones a seguir: se refiere a una serie de recomendaciones concretas y viables basadas en los resultados obtenidos, para intervenir en a solución del problema que se estudia. Generalmente se materializan en acciones concretas de intervención para que el negocio pueda tomar decisiones en consecuencia.\n",
    "\n",
    "* Limitaciones: El reporte debe explicar las limitaciones del análisis, como por ejemplo, la falta de datos o la calidad de los mismos.\n"
   ]
  },
  {
   "attachments": {},
   "cell_type": "markdown",
   "metadata": {},
   "source": [
    "# 4. Entregables \n",
    "\n",
    "En esta sección el entregables consiste una **presentación ejecutiva** dirigida a un CEO, en formato **pdf** para comunicar en una charla de no mas de 10 minutos (7 diapositivas) los resultados del análisis realizado. Dicha presentación deberá considerar los siguientes elemtos:\n",
    "\n",
    "* Estructura del reporte por secciones:\n",
    "  * Objetivos (Problemas a resolver de acuerdo a lo que `Oilst` solicitó al equipo de `Brasil IA Consulting`),\n",
    "  * Métodos de análisis y fuentes de datos empleadas.\n",
    "  * Principales resultados del análisis, que deberán cumplir:\n",
    "    * Ser comunicados de manera corta, clara y concreta para una audiencia no experta en estadística,\n",
    "    * Deben ilustrase y fundamentarse a través de tablas, visualizaciones estáticas o dinámicas, construidas con Python.\n",
    "  * Conclusiones\n",
    "  * Recomendaciones de acciones que Brasil IA Consulting recomienda a Oilst para afrontar el problema de retrasos en su ordenes\n",
    "    * Dichas recomendaciones deben ser acciones concretas a implementa,\n",
    "    * Se deben ligar a los resultados del análisis.\n",
    "  * Limitaciones: deben mencionarse obstáculos en el análisis, que puedan afectar la interpretración de los resultados del negocio.   \n",
    "\n",
    "El reporte deberá denominarse `5_reporte_brasil_ia_consulting.pdf`"
   ]
  }
 ],
 "metadata": {
  "kernelspec": {
   "display_name": "aument_conda",
   "language": "python",
   "name": "python3"
  },
  "language_info": {
   "codemirror_mode": {
    "name": "ipython",
    "version": 3
   },
   "file_extension": ".py",
   "mimetype": "text/x-python",
   "name": "python",
   "nbconvert_exporter": "python",
   "pygments_lexer": "ipython3",
   "version": "3.10.9"
  },
  "orig_nbformat": 4
 },
 "nbformat": 4,
 "nbformat_minor": 2
}
