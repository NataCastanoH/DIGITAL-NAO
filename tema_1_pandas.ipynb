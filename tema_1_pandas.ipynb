{
 "cells": [
  {
   "cell_type": "markdown",
   "metadata": {},
   "source": []
  },
  {
   "cell_type": "markdown",
   "metadata": {},
   "source": [
    "![title](./images/logo_nao_digital.png)"
   ]
  },
  {
   "cell_type": "markdown",
   "metadata": {},
   "source": [
    "# Tema 1: Conocimientos sobre Pandas\n",
    "\n",
    "## 1. Objetivo\n",
    "\n",
    "Procesar en Python la información entregada por el equipo de Ingeniería de datos de Oilst de forma funcional para el análisis de los retrasos en las órdenes de los clientes.\n",
    "\n",
    "## Datos de Oilst\n",
    "\n",
    "Cómo se ha mencionado en el Anexo A, se ha provisto la siguiente información al equipo de `Brasil BI Consulting:`\n",
    "\n",
    "| Archivo                      \t| Descripción                                                                                                                                     \t| Formato \t|\n",
    "|------------------------------\t|-------------------------------------------------------------------------------------------------------------------------------------------------\t|---------\t|\n",
    "| olist_customers_dataset      \t| Datos de identificación de los clientes y la ubicación del domicilio que tienen registrado con Olist para recibir pedidos.                      \t| xlsx    \t|\n",
    "| olist_orders_dataset         \t| Datos de identificación de las órdenes realizadas por los clientes, su estatus de envío y la cronología de entrega en el domicilio del cliente. \t| csv     \t|\n",
    "| olist_geolocation_dataset    \t| Datos de geolocalización de códigos postales de zonas de Brasil.                                                                                \t| csv     \t|\n",
    "| olist_order_items_dataset    \t| Contiene la relación de artículos contenidos en las órdenes de los clientes                                                                     \t| csv     \t|\n",
    "| olist_order_payments_dataset \t| Contiene la relación de pagos que cada cliente hizo en sus órdenes por medio de pago                                                            \t| csv     \t|\n",
    "| states_abreviations          \t| Contiene la relación de nombres de los estados de Brasil y sus abreviaciones.                                                                   \t| json    \t|\n",
    "\n",
    "\n",
    "Adicionalmente, también se tiene el diagrama de relación entre las tablas:\n",
    "\n",
    "![title](./images/olist_diagram.png)\n",
    "\n"
   ]
  },
  {
   "cell_type": "markdown",
   "metadata": {},
   "source": [
    "Este documento se desarrollarán scripts en Python que permitan procesar la  la información de Olist para realizar posteriormente el análisis de sus datos"
   ]
  },
  {
   "cell_type": "markdown",
   "metadata": {},
   "source": [
    "## 2. Librerias de trabajo"
   ]
  },
  {
   "cell_type": "code",
   "execution_count": 48,
   "metadata": {},
   "outputs": [
    {
     "name": "stderr",
     "output_type": "stream",
     "text": [
      "\n",
      "Usage:   \n",
      "  pip install [options] <requirement specifier> [package-index-options] ...\n",
      "  pip install [options] -r <requirements file> [package-index-options] ...\n",
      "  pip install [options] [-e] <vcs project url> ...\n",
      "  pip install [options] [-e] <local project path> ...\n",
      "  pip install [options] <archive url/path> ...\n",
      "\n",
      "no such option: -y\n",
      "\n",
      "Usage:   \n",
      "  pip install [options] <requirement specifier> [package-index-options] ...\n",
      "  pip install [options] -r <requirements file> [package-index-options] ...\n",
      "  pip install [options] [-e] <vcs project url> ...\n",
      "  pip install [options] [-e] <local project path> ...\n",
      "  pip install [options] <archive url/path> ...\n",
      "\n",
      "no such option: -y\n"
     ]
    }
   ],
   "source": [
    "# Instala libreria Pandas si no la tenemos\n",
    "!pip install pandas -y\n",
    "!pip install openpyxl -y"
   ]
  },
  {
   "cell_type": "code",
   "execution_count": 49,
   "metadata": {},
   "outputs": [],
   "source": [
    "import os\n",
    "import numpy as np\n",
    "import pandas as pd\n",
    "import openpyxl\n",
    "\n",
    "import warnings\n",
    "warnings.filterwarnings('ignore')"
   ]
  },
  {
   "cell_type": "markdown",
   "metadata": {},
   "source": [
    "## 3. Lectura de datos\n",
    "\n",
    "Primero nos encargaremos de leer los datos, indicando a Python donde se encuentra la carpeta que contiene los datos y los nombres de los archivos relevantes para el análisis."
   ]
  },
  {
   "cell_type": "code",
   "execution_count": 50,
   "metadata": {},
   "outputs": [],
   "source": [
    "# Indicamos la ruta a la carpeta de de tu computadora \n",
    "# donde se ubican los datos del E-commerce\n",
    "# Ejemplo: \"C:\\Usuarios\\[tu nombre]\\Descargas\"\n",
    "\n",
    "DATA_PATH=\"C:\\\\Users\\\\Natalia\\\\Recursos DN_COM_58\""
   ]
  },
  {
   "cell_type": "markdown",
   "metadata": {},
   "source": [
    "Ahora procederemos a definir variables que indiquen el nombre de los archivos junto con su extensión (por ejemplo, `.csv`, `.json` u otra)."
   ]
  },
  {
   "cell_type": "code",
   "execution_count": 51,
   "metadata": {},
   "outputs": [],
   "source": [
    "FILE_CUSTOMERS = 'olist_customers_dataset.xlsx'\n",
    "FILE_GEOLOCATIONS = 'olist_geolocation_dataset.csv'\n",
    "\n",
    "# completa los nombres del resto de los archivos con su extesion (ejemplo .csv) ...\n",
    "FILE_ITEMS = 'olist_order_items_dataset.csv'\n",
    "FILE_PAYMENTS = 'olist_order_payments_dataset.csv'\n",
    "FILE_ORDERS = 'olist_orders_dataset.csv'\n",
    "FILE_STATES_ABBREVIATIONS = 'states_abbreviations.json'"
   ]
  },
  {
   "cell_type": "markdown",
   "metadata": {},
   "source": [
    "Echaremos mano de la utilidad `os.path.join` de Python que indicar rutas en tu computadora donde se ubican archivos, así Pandas encontrá los archivos de datos.\n",
    "\n",
    "\n",
    "**Ejemplo**\n",
    "\n",
    "A continuación mostraremos un ejemplo leyendo el archivo `olist_geolocation_dataset.csv`:"
   ]
  },
  {
   "cell_type": "code",
   "execution_count": 52,
   "metadata": {},
   "outputs": [
    {
     "name": "stdout",
     "output_type": "stream",
     "text": [
      "C:\\Users\\Natalia\\Recursos DN_COM_58: olist_geolocation_dataset.csv\n",
      "C:\\Users\\Natalia\\Recursos DN_COM_58\\olist_geolocation_dataset.csv\n"
     ]
    }
   ],
   "source": [
    "# Ejemplo\n",
    "print(f\"C:\\\\Users\\\\Natalia\\\\Recursos DN_COM_58: {FILE_GEOLOCATIONS}\")\n",
    "print(os.path.join(DATA_PATH, FILE_GEOLOCATIONS))"
   ]
  },
  {
   "cell_type": "code",
   "execution_count": 53,
   "metadata": {},
   "outputs": [],
   "source": [
    "# Leemos con pandas\n",
    "geolocations = pd.read_csv(\n",
    "    os.path.join(DATA_PATH, FILE_GEOLOCATIONS),\n",
    "    dtype={'geolocation_zip_code_prefix': 'str'}\n",
    "    )"
   ]
  },
  {
   "cell_type": "markdown",
   "metadata": {},
   "source": [
    "Podemos explorar el archivo con los comandos `.head(), .info(), .describe()`"
   ]
  },
  {
   "cell_type": "markdown",
   "metadata": {},
   "source": [
    "**Función .head()**\n",
    "\n",
    "Este comando nos brinda información de los primeros renglones de la tabla:"
   ]
  },
  {
   "cell_type": "code",
   "execution_count": 54,
   "metadata": {},
   "outputs": [
    {
     "data": {
      "text/html": [
       "<div>\n",
       "<style scoped>\n",
       "    .dataframe tbody tr th:only-of-type {\n",
       "        vertical-align: middle;\n",
       "    }\n",
       "\n",
       "    .dataframe tbody tr th {\n",
       "        vertical-align: top;\n",
       "    }\n",
       "\n",
       "    .dataframe thead th {\n",
       "        text-align: right;\n",
       "    }\n",
       "</style>\n",
       "<table border=\"1\" class=\"dataframe\">\n",
       "  <thead>\n",
       "    <tr style=\"text-align: right;\">\n",
       "      <th></th>\n",
       "      <th>geolocation_zip_code_prefix</th>\n",
       "      <th>geolocation_lat</th>\n",
       "      <th>geolocation_lng</th>\n",
       "      <th>geolocation_city</th>\n",
       "      <th>geolocation_state</th>\n",
       "    </tr>\n",
       "  </thead>\n",
       "  <tbody>\n",
       "    <tr>\n",
       "      <th>0</th>\n",
       "      <td>01037</td>\n",
       "      <td>-23.545621</td>\n",
       "      <td>-46.639292</td>\n",
       "      <td>sao paulo</td>\n",
       "      <td>SP</td>\n",
       "    </tr>\n",
       "    <tr>\n",
       "      <th>1</th>\n",
       "      <td>01046</td>\n",
       "      <td>-23.546081</td>\n",
       "      <td>-46.644820</td>\n",
       "      <td>sao paulo</td>\n",
       "      <td>SP</td>\n",
       "    </tr>\n",
       "    <tr>\n",
       "      <th>2</th>\n",
       "      <td>01046</td>\n",
       "      <td>-23.546129</td>\n",
       "      <td>-46.642951</td>\n",
       "      <td>sao paulo</td>\n",
       "      <td>SP</td>\n",
       "    </tr>\n",
       "    <tr>\n",
       "      <th>3</th>\n",
       "      <td>01041</td>\n",
       "      <td>-23.544392</td>\n",
       "      <td>-46.639499</td>\n",
       "      <td>sao paulo</td>\n",
       "      <td>SP</td>\n",
       "    </tr>\n",
       "    <tr>\n",
       "      <th>4</th>\n",
       "      <td>01035</td>\n",
       "      <td>-23.541578</td>\n",
       "      <td>-46.641607</td>\n",
       "      <td>sao paulo</td>\n",
       "      <td>SP</td>\n",
       "    </tr>\n",
       "  </tbody>\n",
       "</table>\n",
       "</div>"
      ],
      "text/plain": [
       "  geolocation_zip_code_prefix  geolocation_lat  geolocation_lng  \\\n",
       "0                       01037       -23.545621       -46.639292   \n",
       "1                       01046       -23.546081       -46.644820   \n",
       "2                       01046       -23.546129       -46.642951   \n",
       "3                       01041       -23.544392       -46.639499   \n",
       "4                       01035       -23.541578       -46.641607   \n",
       "\n",
       "  geolocation_city geolocation_state  \n",
       "0        sao paulo                SP  \n",
       "1        sao paulo                SP  \n",
       "2        sao paulo                SP  \n",
       "3        sao paulo                SP  \n",
       "4        sao paulo                SP  "
      ]
     },
     "execution_count": 54,
     "metadata": {},
     "output_type": "execute_result"
    }
   ],
   "source": [
    "geolocations.head()"
   ]
  },
  {
   "cell_type": "markdown",
   "metadata": {},
   "source": [
    "**Función .describe()**\n",
    "\n",
    "Este comando nos ayuda obtener información estadística de las variables de la tabla, entre ellas el conteo de los elementos no nulos de una columnas, la media, su desviación estándar (que es una medida de que tan dispersa se encuentra la información a partir de su media), el primer, segundo y tercer cuartil de los datos \n",
    "que se refiere a que valor de los datos ocupar el 25%, 50% y 75% de la distribución de los datos si se ordenan de menor a mayor y que se denotan, respectivamente como, denotado Q1, Q2 y Q3. Además provee información del mínimo y máximo presentes en la columna."
   ]
  },
  {
   "cell_type": "code",
   "execution_count": 55,
   "metadata": {},
   "outputs": [
    {
     "data": {
      "text/html": [
       "<div>\n",
       "<style scoped>\n",
       "    .dataframe tbody tr th:only-of-type {\n",
       "        vertical-align: middle;\n",
       "    }\n",
       "\n",
       "    .dataframe tbody tr th {\n",
       "        vertical-align: top;\n",
       "    }\n",
       "\n",
       "    .dataframe thead th {\n",
       "        text-align: right;\n",
       "    }\n",
       "</style>\n",
       "<table border=\"1\" class=\"dataframe\">\n",
       "  <thead>\n",
       "    <tr style=\"text-align: right;\">\n",
       "      <th></th>\n",
       "      <th>geolocation_lat</th>\n",
       "      <th>geolocation_lng</th>\n",
       "    </tr>\n",
       "  </thead>\n",
       "  <tbody>\n",
       "    <tr>\n",
       "      <th>count</th>\n",
       "      <td>1.000163e+06</td>\n",
       "      <td>1.000163e+06</td>\n",
       "    </tr>\n",
       "    <tr>\n",
       "      <th>mean</th>\n",
       "      <td>-2.117615e+01</td>\n",
       "      <td>-4.639054e+01</td>\n",
       "    </tr>\n",
       "    <tr>\n",
       "      <th>std</th>\n",
       "      <td>5.715866e+00</td>\n",
       "      <td>4.269748e+00</td>\n",
       "    </tr>\n",
       "    <tr>\n",
       "      <th>min</th>\n",
       "      <td>-3.660537e+01</td>\n",
       "      <td>-1.014668e+02</td>\n",
       "    </tr>\n",
       "    <tr>\n",
       "      <th>25%</th>\n",
       "      <td>-2.360355e+01</td>\n",
       "      <td>-4.857317e+01</td>\n",
       "    </tr>\n",
       "    <tr>\n",
       "      <th>50%</th>\n",
       "      <td>-2.291938e+01</td>\n",
       "      <td>-4.663788e+01</td>\n",
       "    </tr>\n",
       "    <tr>\n",
       "      <th>75%</th>\n",
       "      <td>-1.997962e+01</td>\n",
       "      <td>-4.376771e+01</td>\n",
       "    </tr>\n",
       "    <tr>\n",
       "      <th>max</th>\n",
       "      <td>4.506593e+01</td>\n",
       "      <td>1.211054e+02</td>\n",
       "    </tr>\n",
       "  </tbody>\n",
       "</table>\n",
       "</div>"
      ],
      "text/plain": [
       "       geolocation_lat  geolocation_lng\n",
       "count     1.000163e+06     1.000163e+06\n",
       "mean     -2.117615e+01    -4.639054e+01\n",
       "std       5.715866e+00     4.269748e+00\n",
       "min      -3.660537e+01    -1.014668e+02\n",
       "25%      -2.360355e+01    -4.857317e+01\n",
       "50%      -2.291938e+01    -4.663788e+01\n",
       "75%      -1.997962e+01    -4.376771e+01\n",
       "max       4.506593e+01     1.211054e+02"
      ]
     },
     "execution_count": 55,
     "metadata": {},
     "output_type": "execute_result"
    }
   ],
   "source": [
    "geolocations .describe()"
   ]
  },
  {
   "cell_type": "markdown",
   "metadata": {},
   "source": [
    "**Función .info()**\n",
    "\n",
    "Este comando nos ayuda obtener información de cuantas entradas tiene una tabla, el tipo de dato en que se representarn sus columnas y el tamaño que ocupa en la memoria de nuestra computadora."
   ]
  },
  {
   "cell_type": "code",
   "execution_count": 56,
   "metadata": {},
   "outputs": [
    {
     "name": "stdout",
     "output_type": "stream",
     "text": [
      "<class 'pandas.core.frame.DataFrame'>\n",
      "RangeIndex: 1000163 entries, 0 to 1000162\n",
      "Data columns (total 5 columns):\n",
      " #   Column                       Non-Null Count    Dtype  \n",
      "---  ------                       --------------    -----  \n",
      " 0   geolocation_zip_code_prefix  1000163 non-null  object \n",
      " 1   geolocation_lat              1000163 non-null  float64\n",
      " 2   geolocation_lng              1000163 non-null  float64\n",
      " 3   geolocation_city             1000163 non-null  object \n",
      " 4   geolocation_state            1000163 non-null  object \n",
      "dtypes: float64(2), object(3)\n",
      "memory usage: 38.2+ MB\n"
     ]
    }
   ],
   "source": [
    "geolocations.info()"
   ]
  },
  {
   "cell_type": "markdown",
   "metadata": {},
   "source": [
    "Ahora estamos en posición de completar el código para el resto de conjuntos de datos:\n",
    "\n",
    "### 3.1 Archivo olist_customers_dataset\n",
    "\n",
    "**Hint:** \n",
    "\n",
    "1. Pandas necesita instalar una libreria extrar para leer éste tipo de archivos (`openpyxl`).\n",
    "2. Se debe expecificar el tipo de dato de `customer_zip_code_prefix` (ver Anexo A)"
   ]
  },
  {
   "cell_type": "code",
   "execution_count": 83,
   "metadata": {},
   "outputs": [],
   "source": [
    "customers = pd.read_excel(\n",
    "    os.path.join(DATA_PATH, FILE_CUSTOMERS),\n",
    "    # Especificar el tipo de dato de customer_zip_code_prefix\n",
    "    dtype={'customer_zip_code_prefix': \"str\"}\n",
    "    )"
   ]
  },
  {
   "cell_type": "markdown",
   "metadata": {},
   "source": [
    "Verificamos que `customer_zip_code_prefix` tenga el formato correcto (Ojo: !no es un número, sino un código postal!)"
   ]
  },
  {
   "cell_type": "code",
   "execution_count": 90,
   "metadata": {},
   "outputs": [
    {
     "name": "stdout",
     "output_type": "stream",
     "text": [
      "<class 'pandas.core.frame.DataFrame'>\n",
      "RangeIndex: 99441 entries, 0 to 99440\n",
      "Data columns (total 5 columns):\n",
      " #   Column                    Non-Null Count  Dtype \n",
      "---  ------                    --------------  ----- \n",
      " 0   customer_id               99441 non-null  object\n",
      " 1   customer_unique_id        99441 non-null  object\n",
      " 2   customer_zip_code_prefix  99441 non-null  object\n",
      " 3   customer_city             99441 non-null  object\n",
      " 4   customer_state            99441 non-null  object\n",
      "dtypes: object(5)\n",
      "memory usage: 3.8+ MB\n"
     ]
    }
   ],
   "source": [
    "customers.info()"
   ]
  },
  {
   "cell_type": "markdown",
   "metadata": {},
   "source": [
    "También podemos visualizar una muestra aleatoria con el método `.sample(numero_entero)`"
   ]
  },
  {
   "cell_type": "code",
   "execution_count": 59,
   "metadata": {},
   "outputs": [
    {
     "data": {
      "text/html": [
       "<div>\n",
       "<style scoped>\n",
       "    .dataframe tbody tr th:only-of-type {\n",
       "        vertical-align: middle;\n",
       "    }\n",
       "\n",
       "    .dataframe tbody tr th {\n",
       "        vertical-align: top;\n",
       "    }\n",
       "\n",
       "    .dataframe thead th {\n",
       "        text-align: right;\n",
       "    }\n",
       "</style>\n",
       "<table border=\"1\" class=\"dataframe\">\n",
       "  <thead>\n",
       "    <tr style=\"text-align: right;\">\n",
       "      <th></th>\n",
       "      <th>customer_id</th>\n",
       "      <th>customer_unique_id</th>\n",
       "      <th>customer_zip_code_prefix</th>\n",
       "      <th>customer_city</th>\n",
       "      <th>customer_state</th>\n",
       "    </tr>\n",
       "  </thead>\n",
       "  <tbody>\n",
       "    <tr>\n",
       "      <th>38007</th>\n",
       "      <td>3bd30155866d17df9186fcce6db08abc</td>\n",
       "      <td>b65e1b1d5e469f9f39446671399ba1d7</td>\n",
       "      <td>06455</td>\n",
       "      <td>barueri</td>\n",
       "      <td>SP</td>\n",
       "    </tr>\n",
       "    <tr>\n",
       "      <th>31729</th>\n",
       "      <td>0dd70915d5f46c4cf8afce382e0b5b86</td>\n",
       "      <td>526126c9f6a2a58d226b574d4d6c2278</td>\n",
       "      <td>14020</td>\n",
       "      <td>ribeirao preto</td>\n",
       "      <td>SP</td>\n",
       "    </tr>\n",
       "    <tr>\n",
       "      <th>21322</th>\n",
       "      <td>4d76d67924ecadc4b2aa91d302dd020b</td>\n",
       "      <td>d761830bfa7836aed636fd717c5e3644</td>\n",
       "      <td>18072</td>\n",
       "      <td>sorocaba</td>\n",
       "      <td>SP</td>\n",
       "    </tr>\n",
       "    <tr>\n",
       "      <th>61534</th>\n",
       "      <td>7f3994454246f19eb6e9b1c52af0572d</td>\n",
       "      <td>11d07d8ffcdb81279bb38d710648ce6f</td>\n",
       "      <td>89820</td>\n",
       "      <td>xanxere</td>\n",
       "      <td>SC</td>\n",
       "    </tr>\n",
       "    <tr>\n",
       "      <th>33158</th>\n",
       "      <td>c374b0cc201a392bd2bac0b599803469</td>\n",
       "      <td>b8916bc2a46ce5e61f143f19f56ea1f8</td>\n",
       "      <td>09430</td>\n",
       "      <td>ribeirao pires</td>\n",
       "      <td>SP</td>\n",
       "    </tr>\n",
       "    <tr>\n",
       "      <th>4543</th>\n",
       "      <td>8c5db6ab949fe1969b5c5adb8bcc75e6</td>\n",
       "      <td>86c8ebf0f68ffdcb8f01ff23de42d769</td>\n",
       "      <td>07144</td>\n",
       "      <td>guarulhos</td>\n",
       "      <td>SP</td>\n",
       "    </tr>\n",
       "    <tr>\n",
       "      <th>94301</th>\n",
       "      <td>0f75bccc040aa9f03477f4fe05c62433</td>\n",
       "      <td>0ecc403ec5d6ce000fd84f00cd5efb0a</td>\n",
       "      <td>07115</td>\n",
       "      <td>guarulhos</td>\n",
       "      <td>SP</td>\n",
       "    </tr>\n",
       "    <tr>\n",
       "      <th>97457</th>\n",
       "      <td>af76edabdbf253fecbc78beafb220e79</td>\n",
       "      <td>08d2b18f8862714c1dfc52561a8dae27</td>\n",
       "      <td>05183</td>\n",
       "      <td>sao paulo</td>\n",
       "      <td>SP</td>\n",
       "    </tr>\n",
       "    <tr>\n",
       "      <th>11255</th>\n",
       "      <td>021833e9737a1145b5a6e3053f0f4329</td>\n",
       "      <td>18af4524eed79155034a9374880c5078</td>\n",
       "      <td>03211</td>\n",
       "      <td>sao paulo</td>\n",
       "      <td>SP</td>\n",
       "    </tr>\n",
       "    <tr>\n",
       "      <th>3260</th>\n",
       "      <td>b3570672c35f5c87ed4f61c7419a411f</td>\n",
       "      <td>3e3df9352e18a9645a6dfc78b0538585</td>\n",
       "      <td>09230</td>\n",
       "      <td>santo andre</td>\n",
       "      <td>SP</td>\n",
       "    </tr>\n",
       "  </tbody>\n",
       "</table>\n",
       "</div>"
      ],
      "text/plain": [
       "                            customer_id                customer_unique_id  \\\n",
       "38007  3bd30155866d17df9186fcce6db08abc  b65e1b1d5e469f9f39446671399ba1d7   \n",
       "31729  0dd70915d5f46c4cf8afce382e0b5b86  526126c9f6a2a58d226b574d4d6c2278   \n",
       "21322  4d76d67924ecadc4b2aa91d302dd020b  d761830bfa7836aed636fd717c5e3644   \n",
       "61534  7f3994454246f19eb6e9b1c52af0572d  11d07d8ffcdb81279bb38d710648ce6f   \n",
       "33158  c374b0cc201a392bd2bac0b599803469  b8916bc2a46ce5e61f143f19f56ea1f8   \n",
       "4543   8c5db6ab949fe1969b5c5adb8bcc75e6  86c8ebf0f68ffdcb8f01ff23de42d769   \n",
       "94301  0f75bccc040aa9f03477f4fe05c62433  0ecc403ec5d6ce000fd84f00cd5efb0a   \n",
       "97457  af76edabdbf253fecbc78beafb220e79  08d2b18f8862714c1dfc52561a8dae27   \n",
       "11255  021833e9737a1145b5a6e3053f0f4329  18af4524eed79155034a9374880c5078   \n",
       "3260   b3570672c35f5c87ed4f61c7419a411f  3e3df9352e18a9645a6dfc78b0538585   \n",
       "\n",
       "      customer_zip_code_prefix   customer_city customer_state  \n",
       "38007                    06455         barueri             SP  \n",
       "31729                    14020  ribeirao preto             SP  \n",
       "21322                    18072        sorocaba             SP  \n",
       "61534                    89820         xanxere             SC  \n",
       "33158                    09430  ribeirao pires             SP  \n",
       "4543                     07144       guarulhos             SP  \n",
       "94301                    07115       guarulhos             SP  \n",
       "97457                    05183       sao paulo             SP  \n",
       "11255                    03211       sao paulo             SP  \n",
       "3260                     09230     santo andre             SP  "
      ]
     },
     "execution_count": 59,
     "metadata": {},
     "output_type": "execute_result"
    }
   ],
   "source": [
    "# Revisamos 10 renglones al azar\n",
    "customers.sample(10)"
   ]
  },
  {
   "cell_type": "markdown",
   "metadata": {},
   "source": [
    "### 3.2 Archivo olist_order_items_dataset"
   ]
  },
  {
   "cell_type": "code",
   "execution_count": 60,
   "metadata": {},
   "outputs": [],
   "source": [
    "items = pd.read_csv(\n",
    "    os.path.join(DATA_PATH, FILE_ITEMS),\n",
    "    # Completa la ubicacion usando os.path.join, DATA_PATH y\n",
    "    # el nombre del archivo FILE_ITEMS\n",
    "    )"
   ]
  },
  {
   "cell_type": "markdown",
   "metadata": {},
   "source": [
    "Como sabemos, este conjunto contiene datos de los productos que contiene cada orden. Por ello, para el análisis nos interesará saber cual es la cantidad de productos en cada orden y el precio total de las mismas.\n",
    "\n",
    "Esto se puede calcular mediante agregaciones de Pandas (https://pandas.pydata.org/pandas-docs/version/0.23/generated/pandas.core.groupby.DataFrameGroupBy.agg.html), que basicamente nos permite hacer cálculos para un grupo en especial. En el ejemplo de inferior se muestra para cada `order_id` se cuenta la cantidad de productos (items) y el precio agregado de todos los artículos en las órdenes:"
   ]
  },
  {
   "cell_type": "code",
   "execution_count": 61,
   "metadata": {},
   "outputs": [],
   "source": [
    "items_agg = items.groupby(\n",
    "    ['order_id']).agg(\n",
    "        # conteo de producto\n",
    "        {'order_item_id': 'count',\n",
    "        # suma de los precios de los artículos\n",
    "        'price': 'sum'}\n",
    "                      ).reset_index() "
   ]
  },
  {
   "cell_type": "code",
   "execution_count": 62,
   "metadata": {},
   "outputs": [
    {
     "data": {
      "text/html": [
       "<div>\n",
       "<style scoped>\n",
       "    .dataframe tbody tr th:only-of-type {\n",
       "        vertical-align: middle;\n",
       "    }\n",
       "\n",
       "    .dataframe tbody tr th {\n",
       "        vertical-align: top;\n",
       "    }\n",
       "\n",
       "    .dataframe thead th {\n",
       "        text-align: right;\n",
       "    }\n",
       "</style>\n",
       "<table border=\"1\" class=\"dataframe\">\n",
       "  <thead>\n",
       "    <tr style=\"text-align: right;\">\n",
       "      <th></th>\n",
       "      <th>order_id</th>\n",
       "      <th>order_item_id</th>\n",
       "      <th>price</th>\n",
       "    </tr>\n",
       "  </thead>\n",
       "  <tbody>\n",
       "    <tr>\n",
       "      <th>0</th>\n",
       "      <td>00010242fe8c5a6d1ba2dd792cb16214</td>\n",
       "      <td>1</td>\n",
       "      <td>58.90</td>\n",
       "    </tr>\n",
       "    <tr>\n",
       "      <th>1</th>\n",
       "      <td>00018f77f2f0320c557190d7a144bdd3</td>\n",
       "      <td>1</td>\n",
       "      <td>239.90</td>\n",
       "    </tr>\n",
       "    <tr>\n",
       "      <th>2</th>\n",
       "      <td>000229ec398224ef6ca0657da4fc703e</td>\n",
       "      <td>1</td>\n",
       "      <td>199.00</td>\n",
       "    </tr>\n",
       "    <tr>\n",
       "      <th>3</th>\n",
       "      <td>00024acbcdf0a6daa1e931b038114c75</td>\n",
       "      <td>1</td>\n",
       "      <td>12.99</td>\n",
       "    </tr>\n",
       "    <tr>\n",
       "      <th>4</th>\n",
       "      <td>00042b26cf59d7ce69dfabb4e55b4fd9</td>\n",
       "      <td>1</td>\n",
       "      <td>199.90</td>\n",
       "    </tr>\n",
       "  </tbody>\n",
       "</table>\n",
       "</div>"
      ],
      "text/plain": [
       "                           order_id  order_item_id   price\n",
       "0  00010242fe8c5a6d1ba2dd792cb16214              1   58.90\n",
       "1  00018f77f2f0320c557190d7a144bdd3              1  239.90\n",
       "2  000229ec398224ef6ca0657da4fc703e              1  199.00\n",
       "3  00024acbcdf0a6daa1e931b038114c75              1   12.99\n",
       "4  00042b26cf59d7ce69dfabb4e55b4fd9              1  199.90"
      ]
     },
     "execution_count": 62,
     "metadata": {},
     "output_type": "execute_result"
    }
   ],
   "source": [
    "items_agg.head()"
   ]
  },
  {
   "cell_type": "markdown",
   "metadata": {},
   "source": [
    "Vamos a renombrar las columnas anteriores, para que sea más intuitivo su significado."
   ]
  },
  {
   "cell_type": "code",
   "execution_count": 63,
   "metadata": {},
   "outputs": [],
   "source": [
    "# Nota: el parámetro inplace sobre escribe los cambios\n",
    "# en el dataframe\n",
    "items_agg.rename(\n",
    "    columns={'order_item_id': 'total_products', 'price': 'total_sales'},\n",
    "    inplace=True\n",
    "    )"
   ]
  },
  {
   "cell_type": "code",
   "execution_count": 64,
   "metadata": {},
   "outputs": [
    {
     "data": {
      "text/html": [
       "<div>\n",
       "<style scoped>\n",
       "    .dataframe tbody tr th:only-of-type {\n",
       "        vertical-align: middle;\n",
       "    }\n",
       "\n",
       "    .dataframe tbody tr th {\n",
       "        vertical-align: top;\n",
       "    }\n",
       "\n",
       "    .dataframe thead th {\n",
       "        text-align: right;\n",
       "    }\n",
       "</style>\n",
       "<table border=\"1\" class=\"dataframe\">\n",
       "  <thead>\n",
       "    <tr style=\"text-align: right;\">\n",
       "      <th></th>\n",
       "      <th>order_id</th>\n",
       "      <th>total_products</th>\n",
       "      <th>total_sales</th>\n",
       "    </tr>\n",
       "  </thead>\n",
       "  <tbody>\n",
       "    <tr>\n",
       "      <th>0</th>\n",
       "      <td>00010242fe8c5a6d1ba2dd792cb16214</td>\n",
       "      <td>1</td>\n",
       "      <td>58.90</td>\n",
       "    </tr>\n",
       "    <tr>\n",
       "      <th>1</th>\n",
       "      <td>00018f77f2f0320c557190d7a144bdd3</td>\n",
       "      <td>1</td>\n",
       "      <td>239.90</td>\n",
       "    </tr>\n",
       "    <tr>\n",
       "      <th>2</th>\n",
       "      <td>000229ec398224ef6ca0657da4fc703e</td>\n",
       "      <td>1</td>\n",
       "      <td>199.00</td>\n",
       "    </tr>\n",
       "    <tr>\n",
       "      <th>3</th>\n",
       "      <td>00024acbcdf0a6daa1e931b038114c75</td>\n",
       "      <td>1</td>\n",
       "      <td>12.99</td>\n",
       "    </tr>\n",
       "    <tr>\n",
       "      <th>4</th>\n",
       "      <td>00042b26cf59d7ce69dfabb4e55b4fd9</td>\n",
       "      <td>1</td>\n",
       "      <td>199.90</td>\n",
       "    </tr>\n",
       "    <tr>\n",
       "      <th>...</th>\n",
       "      <td>...</td>\n",
       "      <td>...</td>\n",
       "      <td>...</td>\n",
       "    </tr>\n",
       "    <tr>\n",
       "      <th>98661</th>\n",
       "      <td>fffc94f6ce00a00581880bf54a75a037</td>\n",
       "      <td>1</td>\n",
       "      <td>299.99</td>\n",
       "    </tr>\n",
       "    <tr>\n",
       "      <th>98662</th>\n",
       "      <td>fffcd46ef2263f404302a634eb57f7eb</td>\n",
       "      <td>1</td>\n",
       "      <td>350.00</td>\n",
       "    </tr>\n",
       "    <tr>\n",
       "      <th>98663</th>\n",
       "      <td>fffce4705a9662cd70adb13d4a31832d</td>\n",
       "      <td>1</td>\n",
       "      <td>99.90</td>\n",
       "    </tr>\n",
       "    <tr>\n",
       "      <th>98664</th>\n",
       "      <td>fffe18544ffabc95dfada21779c9644f</td>\n",
       "      <td>1</td>\n",
       "      <td>55.99</td>\n",
       "    </tr>\n",
       "    <tr>\n",
       "      <th>98665</th>\n",
       "      <td>fffe41c64501cc87c801fd61db3f6244</td>\n",
       "      <td>1</td>\n",
       "      <td>43.00</td>\n",
       "    </tr>\n",
       "  </tbody>\n",
       "</table>\n",
       "<p>98666 rows × 3 columns</p>\n",
       "</div>"
      ],
      "text/plain": [
       "                               order_id  total_products  total_sales\n",
       "0      00010242fe8c5a6d1ba2dd792cb16214               1        58.90\n",
       "1      00018f77f2f0320c557190d7a144bdd3               1       239.90\n",
       "2      000229ec398224ef6ca0657da4fc703e               1       199.00\n",
       "3      00024acbcdf0a6daa1e931b038114c75               1        12.99\n",
       "4      00042b26cf59d7ce69dfabb4e55b4fd9               1       199.90\n",
       "...                                 ...             ...          ...\n",
       "98661  fffc94f6ce00a00581880bf54a75a037               1       299.99\n",
       "98662  fffcd46ef2263f404302a634eb57f7eb               1       350.00\n",
       "98663  fffce4705a9662cd70adb13d4a31832d               1        99.90\n",
       "98664  fffe18544ffabc95dfada21779c9644f               1        55.99\n",
       "98665  fffe41c64501cc87c801fd61db3f6244               1        43.00\n",
       "\n",
       "[98666 rows x 3 columns]"
      ]
     },
     "execution_count": 64,
     "metadata": {},
     "output_type": "execute_result"
    }
   ],
   "source": [
    "items_agg"
   ]
  },
  {
   "cell_type": "markdown",
   "metadata": {},
   "source": [
    "Vamos a repetir el proceso anterior para el resto de tablas:"
   ]
  },
  {
   "cell_type": "markdown",
   "metadata": {},
   "source": [
    "### 3.3 olist_order_payments_dataset"
   ]
  },
  {
   "cell_type": "code",
   "execution_count": 65,
   "metadata": {},
   "outputs": [],
   "source": [
    "payments = pd.read_csv(\n",
    "    os.path.join(DATA_PATH, FILE_PAYMENTS),\n",
    "    # Completa la ubicacion usando os.path.join, DATA_PATH y\n",
    "    # el nombre del archivo correspondiente a los pagos\n",
    "    )"
   ]
  },
  {
   "cell_type": "markdown",
   "metadata": {},
   "source": [
    "### 3.4 states_abbreviations"
   ]
  },
  {
   "cell_type": "code",
   "execution_count": 37,
   "metadata": {},
   "outputs": [],
   "source": [
    "states_abbreviations = pd.read_json(\n",
    "    os.path.join(DATA_PATH, FILE_STATES_ABBREVIATIONS),\n",
    "    # Completa la ubicacion usando os.path.join, DATA_PATH y\n",
    "    # el nombre del archivo correspondiente a las abreviaciones de los estados\n",
    "    )"
   ]
  },
  {
   "cell_type": "markdown",
   "metadata": {},
   "source": [
    "### 3.5 olist_orders_dataset"
   ]
  },
  {
   "cell_type": "code",
   "execution_count": 38,
   "metadata": {},
   "outputs": [],
   "source": [
    "orders = pd.read_csv(\n",
    "    os.path.join(DATA_PATH, FILE_ORDERS),\n",
    "    # Completa la ubicacion usando os.path.join, DATA_PATH y\n",
    "    # el nombre del archivo correspondiente a las ordenes de Oislt\n",
    "    )"
   ]
  },
  {
   "cell_type": "markdown",
   "metadata": {},
   "source": [
    "Si revisamos el formato que Pandas ha otorgado a las columnas que contienen fecha encontraremos algo extraño, no se ha interpretado correctamente:"
   ]
  },
  {
   "cell_type": "code",
   "execution_count": 66,
   "metadata": {},
   "outputs": [
    {
     "name": "stdout",
     "output_type": "stream",
     "text": [
      "<class 'pandas.core.frame.DataFrame'>\n",
      "RangeIndex: 99441 entries, 0 to 99440\n",
      "Data columns (total 14 columns):\n",
      " #   Column                         Non-Null Count  Dtype         \n",
      "---  ------                         --------------  -----         \n",
      " 0   order_id                       99441 non-null  object        \n",
      " 1   customer_id                    99441 non-null  object        \n",
      " 2   order_status                   99441 non-null  object        \n",
      " 3   order_purchase_timestamp       0 non-null      datetime64[ns]\n",
      " 4   order_approved_at              0 non-null      datetime64[ns]\n",
      " 5   order_delivered_carrier_date   0 non-null      datetime64[ns]\n",
      " 6   order_delivered_customer_date  0 non-null      datetime64[ns]\n",
      " 7   order_estimated_delivery_date  0 non-null      datetime64[ns]\n",
      " 8   distance_distribution_center   96470 non-null  float64       \n",
      " 9   year                           0 non-null      float64       \n",
      " 10  month                          0 non-null      float64       \n",
      " 11  quarter                        0 non-null      period[Q-DEC] \n",
      " 12  year_month                     0 non-null      period[M]     \n",
      " 13  delta_days                     0 non-null      float64       \n",
      "dtypes: datetime64[ns](5), float64(4), object(3), period[M](1), period[Q-DEC](1)\n",
      "memory usage: 10.6+ MB\n"
     ]
    }
   ],
   "source": [
    "orders.info()"
   ]
  },
  {
   "cell_type": "markdown",
   "metadata": {},
   "source": [
    "Por lo tanto es necesario convertir las columnas al formato de fecha `datetime` (Ver: https://towardsdatascience.com/working-with-datetime-in-pandas-dataframe-663f7af6c587).\n",
    "\n",
    "Emplearemos la función `to_datetime` de Pandas para modificar las columnas para que se interpreten como fechas:"
   ]
  },
  {
   "cell_type": "code",
   "execution_count": 67,
   "metadata": {},
   "outputs": [],
   "source": [
    "# Convierte a formato fecha completando los campos apropiados\n",
    "\n",
    "## convierte order_purchase_timestamp\n",
    "orders['order_purchase_timestamp'] = pd.to_datetime(... , errors='coerce' )\n",
    "\n",
    "# order_approved_at\n",
    "orders['order_approved_at'] = pd.to_datetime(... , errors='coerce' )\n",
    "\n",
    "# order_delivered_carrier_date\n",
    "orders['order_delivered_carrier_date'] = pd.to_datetime(... , errors='coerce' )\n",
    "\n",
    "# order_delivered_customer_date\n",
    "orders['order_delivered_customer_date'] = pd.to_datetime(... , errors='coerce' )\n",
    "\n",
    "# order_estimated_delivery_date\n",
    "orders['order_estimated_delivery_date'] = pd.to_datetime(... , errors='coerce' )"
   ]
  },
  {
   "cell_type": "markdown",
   "metadata": {},
   "source": [
    "Ahora podemos ver como ha cambiado el formato:"
   ]
  },
  {
   "cell_type": "code",
   "execution_count": 42,
   "metadata": {},
   "outputs": [
    {
     "name": "stdout",
     "output_type": "stream",
     "text": [
      "<class 'pandas.core.frame.DataFrame'>\n",
      "RangeIndex: 99441 entries, 0 to 99440\n",
      "Data columns (total 9 columns):\n",
      " #   Column                         Non-Null Count  Dtype         \n",
      "---  ------                         --------------  -----         \n",
      " 0   order_id                       99441 non-null  object        \n",
      " 1   customer_id                    99441 non-null  object        \n",
      " 2   order_status                   99441 non-null  object        \n",
      " 3   order_purchase_timestamp       0 non-null      datetime64[ns]\n",
      " 4   order_approved_at              0 non-null      datetime64[ns]\n",
      " 5   order_delivered_carrier_date   0 non-null      datetime64[ns]\n",
      " 6   order_delivered_customer_date  0 non-null      datetime64[ns]\n",
      " 7   order_estimated_delivery_date  0 non-null      datetime64[ns]\n",
      " 8   distance_distribution_center   96470 non-null  float64       \n",
      "dtypes: datetime64[ns](5), float64(1), object(3)\n",
      "memory usage: 6.8+ MB\n"
     ]
    }
   ],
   "source": [
    "orders.info()"
   ]
  },
  {
   "cell_type": "markdown",
   "metadata": {},
   "source": [
    "Una vez corregido el tema de las fecha definiremos también algunas variables auxiliares que nos serviran posteriormente en el análisis.\n",
    "\n",
    "Por ejemplo, es de interés conocer en que mes, año y trimestre del año sucedieron las compras, usando la columna `order_purchase_timestamp`:"
   ]
  },
  {
   "cell_type": "code",
   "execution_count": 43,
   "metadata": {},
   "outputs": [],
   "source": [
    "# Define una columna con el año en que sucedió la orden\n",
    "orders['year'] = orders['order_purchase_timestamp'].dt.year\n",
    "\n",
    "# Define una columna con el mes en que sucedió la orden\n",
    "orders['month'] = orders['order_purchase_timestamp'].dt.month\n",
    "\n",
    "# Define una columna con trimestre con el que paso la orden (ej. Q12018)\n",
    "# https://pandas.pydata.org/docs/reference/api/pandas.Series.dt.to_period.html\n",
    "orders['quarter'] = orders['order_purchase_timestamp'].dt.to_period('Q')\n",
    "\n",
    "# Define una columna con mes y año con el que paso la orden (ej. 02-2018)\n",
    "# Hint: ¿que hace el metodo ...to_period('M')?\n",
    "orders['year_month'] = orders['order_purchase_timestamp'].dt.to_period('M')"
   ]
  },
  {
   "cell_type": "markdown",
   "metadata": {},
   "source": [
    "* El método .to_period('M') se utiliza en pandas para convertir una columna de fechas en un objeto de período, donde 'M' indica que queremos agrupar las fechas por mes. Es decir, transforma fechas individuales en períodos mensuales."
   ]
  },
  {
   "cell_type": "markdown",
   "metadata": {},
   "source": [
    "Por otro lado, también necesitamos identificar las órdenes que tuvieron retrasos prolongados. Recordemos que de acuerdo a la documentación del `Anexo A`:\n",
    "* Oilst notifica el usuario de cuando llegará su pedido con el valor de la columna `order_estimated_delivery_date`,\n",
    "* Además la fecha real en que se llevó la entrega se encuentra en el campo `order_delivered_customer_date`\n",
    "\n",
    "A continuación calcularemos distancia (en días) entre ambas fecha definiendo a la variable `delta_days`:"
   ]
  },
  {
   "cell_type": "code",
   "execution_count": 68,
   "metadata": {},
   "outputs": [],
   "source": [
    "# Nota: tenemos que realizar la conversion de\n",
    "# segundos a días\n",
    "\n",
    "orders['delta_days'] = (\n",
    "    orders['order_delivered_customer_date'] -\n",
    "    orders['order_estimated_delivery_date']\n",
    "    ).dt.total_seconds()/ 60 / 60 / 24"
   ]
  },
  {
   "cell_type": "markdown",
   "metadata": {},
   "source": [
    "**Pregunta:**\n",
    "\n",
    "* ¿Por qué para convertir lo anterior a días tenemos que dividir entre 60, después entre 60 y luego entre 24?\n",
    "\n",
    "Porque se debe pasar de segundos a horas/día. 60 segundos por minuto, 60 minutos por segundo y 24 horas por día"
   ]
  },
  {
   "cell_type": "markdown",
   "metadata": {},
   "source": [
    "Podemos explorar ahora los valores de dicha variables con el método `.describe()`"
   ]
  },
  {
   "cell_type": "code",
   "execution_count": 69,
   "metadata": {},
   "outputs": [
    {
     "data": {
      "text/plain": [
       "count    0.0\n",
       "mean     NaN\n",
       "std      NaN\n",
       "min      NaN\n",
       "25%      NaN\n",
       "50%      NaN\n",
       "75%      NaN\n",
       "max      NaN\n",
       "Name: delta_days, dtype: float64"
      ]
     },
     "execution_count": 69,
     "metadata": {},
     "output_type": "execute_result"
    }
   ],
   "source": [
    "orders['delta_days'].describe()"
   ]
  },
  {
   "cell_type": "markdown",
   "metadata": {},
   "source": [
    "En el contexto del problema, los valores de `delta_days` tiene el significado:\n",
    "\n",
    "* Un valor negativo en `delta_days` significa que el pedido llego antes de lo esperado; es decir, no existió retraso.\n",
    "* Un valor de `delta_days`, mayor a 0 días pero menor a 3 días, significa que es un retrazo aceptable,\n",
    "* Sin embargo, si `delta_days` es más grande que 3 días esto significa que tenemos un retrazo prolongado.\n",
    "\n",
    "Crearemos una variable `delay_status` para indicar la discusión anterior usando el operador `where` de Numpy (https://towardsdatascience.com/creating-conditional-columns-on-pandas-with-numpy-select-and-where-methods-8ee6e2dbd5d5).\n",
    "\n",
    "Esencialmente, el operador `where` de Numpy permite definir variables siguiendo reglas lógicas de manera condicional, similar al `if ... else ...` de Python:"
   ]
  },
  {
   "cell_type": "code",
   "execution_count": 70,
   "metadata": {},
   "outputs": [],
   "source": [
    "# Define \n",
    "orders['delay_status']  = np.where(\n",
    "    orders['delta_days'] > 3, 'long_delay',\n",
    "    np.where(orders['delta_days'] <= 0, 'on_time','short_delay')\n",
    "    )"
   ]
  },
  {
   "cell_type": "markdown",
   "metadata": {},
   "source": [
    "Para ver el efecto de lo anterior podemos extraer un muestra con la función `.sample`"
   ]
  },
  {
   "cell_type": "code",
   "execution_count": 71,
   "metadata": {},
   "outputs": [
    {
     "data": {
      "text/plain": [
       "70326    short_delay\n",
       "96086    short_delay\n",
       "17988    short_delay\n",
       "33710    short_delay\n",
       "83195    short_delay\n",
       "60966    short_delay\n",
       "89902    short_delay\n",
       "42691    short_delay\n",
       "65869    short_delay\n",
       "3035     short_delay\n",
       "Name: delay_status, dtype: object"
      ]
     },
     "execution_count": 71,
     "metadata": {},
     "output_type": "execute_result"
    }
   ],
   "source": [
    "orders['delay_status'].sample(10)"
   ]
  },
  {
   "cell_type": "markdown",
   "metadata": {},
   "source": [
    "**Pregunta:**\n",
    "\n",
    "* ¿Las categorías anteriores en que se han clasificado los estatus de entrega de las órdenes se pueden inteserctar?\n",
    "\n",
    "No podrían porque los límites están bien definidos, sólo podrían pertenecer a una de las 3 categorías "
   ]
  },
  {
   "cell_type": "markdown",
   "metadata": {},
   "source": [
    "### 3.6 olist_geolocation_dataset\n",
    "\n",
    "Aunque anteriormente hemos leído este archivo, debemos notar que contiene información redudante de muchos codigos postales, como en el caso del valor `24220`:\n"
   ]
  },
  {
   "cell_type": "code",
   "execution_count": 72,
   "metadata": {},
   "outputs": [
    {
     "data": {
      "text/html": [
       "<div>\n",
       "<style scoped>\n",
       "    .dataframe tbody tr th:only-of-type {\n",
       "        vertical-align: middle;\n",
       "    }\n",
       "\n",
       "    .dataframe tbody tr th {\n",
       "        vertical-align: top;\n",
       "    }\n",
       "\n",
       "    .dataframe thead th {\n",
       "        text-align: right;\n",
       "    }\n",
       "</style>\n",
       "<table border=\"1\" class=\"dataframe\">\n",
       "  <thead>\n",
       "    <tr style=\"text-align: right;\">\n",
       "      <th></th>\n",
       "      <th>geolocation_zip_code_prefix</th>\n",
       "      <th>geolocation_lat</th>\n",
       "      <th>geolocation_lng</th>\n",
       "      <th>geolocation_city</th>\n",
       "      <th>geolocation_state</th>\n",
       "    </tr>\n",
       "  </thead>\n",
       "  <tbody>\n",
       "  </tbody>\n",
       "</table>\n",
       "</div>"
      ],
      "text/plain": [
       "Empty DataFrame\n",
       "Columns: [geolocation_zip_code_prefix, geolocation_lat, geolocation_lng, geolocation_city, geolocation_state]\n",
       "Index: []"
      ]
     },
     "execution_count": 72,
     "metadata": {},
     "output_type": "execute_result"
    }
   ],
   "source": [
    "geolocations.query(\"geolocation_zip_code_prefix == 24220\")"
   ]
  },
  {
   "cell_type": "markdown",
   "metadata": {},
   "source": [
    "Para el análisis tendremos que eliminar esta duplicaciones. Esto se puede lograr con el método `drop_duplicates`"
   ]
  },
  {
   "cell_type": "code",
   "execution_count": 76,
   "metadata": {},
   "outputs": [],
   "source": [
    "unique_geolocations = geolocations.drop_duplicates(\n",
    "    subset = ['geolocation_zip_code_prefix']\n",
    "    )"
   ]
  },
  {
   "cell_type": "markdown",
   "metadata": {},
   "source": [
    "Como se aprecia a continuación, ahora el dataframe `unique_geolocations` corrige el error:"
   ]
  },
  {
   "cell_type": "code",
   "execution_count": 75,
   "metadata": {},
   "outputs": [
    {
     "data": {
      "text/html": [
       "<div>\n",
       "<style scoped>\n",
       "    .dataframe tbody tr th:only-of-type {\n",
       "        vertical-align: middle;\n",
       "    }\n",
       "\n",
       "    .dataframe tbody tr th {\n",
       "        vertical-align: top;\n",
       "    }\n",
       "\n",
       "    .dataframe thead th {\n",
       "        text-align: right;\n",
       "    }\n",
       "</style>\n",
       "<table border=\"1\" class=\"dataframe\">\n",
       "  <thead>\n",
       "    <tr style=\"text-align: right;\">\n",
       "      <th></th>\n",
       "      <th>geolocation_zip_code_prefix</th>\n",
       "      <th>geolocation_lat</th>\n",
       "      <th>geolocation_lng</th>\n",
       "      <th>geolocation_city</th>\n",
       "      <th>geolocation_state</th>\n",
       "    </tr>\n",
       "  </thead>\n",
       "  <tbody>\n",
       "  </tbody>\n",
       "</table>\n",
       "</div>"
      ],
      "text/plain": [
       "Empty DataFrame\n",
       "Columns: [geolocation_zip_code_prefix, geolocation_lat, geolocation_lng, geolocation_city, geolocation_state]\n",
       "Index: []"
      ]
     },
     "execution_count": 75,
     "metadata": {},
     "output_type": "execute_result"
    }
   ],
   "source": [
    "unique_geolocations.query(\n",
    "    \"geolocation_zip_code_prefix == 24220\"\n",
    "    )"
   ]
  },
  {
   "cell_type": "markdown",
   "metadata": {},
   "source": [
    "## 4. Procesamiento global\n",
    "\n",
    "Ahora que hemos cargado a Pandas los datos del E-commerce, debemos **consolidar toda la información** en una sola tabla, lo que nos permitirá centralizar el análisis y hacer comparativos.\n",
    "\n",
    "Para ello, nos proponemos lo siguiente:\n",
    "1. A los datos de clientes le añadiremos los datos de geolocalización. **(Clientes + geolocalización)**\n",
    "2. Tales datos se complementarán añadiendo los datos del nombre del estado de Brasil en que se localizan. (**Clientes + geolocalización + nombre del estado donde viven**)\n",
    "3. Posteriormente archivo de órdenes, agregaremos los datos del precio y cantidad de artículos. **(Órdenes + total de artículos y precios)**\n",
    "4. Finalmente, uniremos toda la información de los pasos 2 y 3 en una sola tabla."
   ]
  },
  {
   "cell_type": "markdown",
   "metadata": {},
   "source": [
    "### 4.1 Clientes + geolocalización"
   ]
  },
  {
   "cell_type": "markdown",
   "metadata": {},
   "source": [
    "Para unir dos fuentes de datos, podemos usar la función `.merge` (https://pandas.pydata.org/docs/reference/api/pandas.DataFrame.merge.html). En el siguiente ejemplo se unes los datos de los clientes junto sus geolocalizaciones.\n",
    "\n",
    "**Nota:** Los códigos postales deben tener el formato texto."
   ]
  },
  {
   "cell_type": "code",
   "execution_count": 84,
   "metadata": {},
   "outputs": [],
   "source": [
    "customers_geolocation = customers.merge(\n",
    "    unique_geolocations,\n",
    "    left_on='customer_zip_code_prefix',\n",
    "    right_on='geolocation_zip_code_prefix',\n",
    "    how='left'\n",
    ")"
   ]
  },
  {
   "cell_type": "code",
   "execution_count": 81,
   "metadata": {},
   "outputs": [
    {
     "data": {
      "text/html": [
       "<div>\n",
       "<style scoped>\n",
       "    .dataframe tbody tr th:only-of-type {\n",
       "        vertical-align: middle;\n",
       "    }\n",
       "\n",
       "    .dataframe tbody tr th {\n",
       "        vertical-align: top;\n",
       "    }\n",
       "\n",
       "    .dataframe thead th {\n",
       "        text-align: right;\n",
       "    }\n",
       "</style>\n",
       "<table border=\"1\" class=\"dataframe\">\n",
       "  <thead>\n",
       "    <tr style=\"text-align: right;\">\n",
       "      <th></th>\n",
       "      <th>customer_id</th>\n",
       "      <th>customer_unique_id</th>\n",
       "      <th>customer_zip_code_prefix</th>\n",
       "      <th>customer_city</th>\n",
       "      <th>customer_state</th>\n",
       "      <th>geolocation_zip_code_prefix</th>\n",
       "      <th>geolocation_lat</th>\n",
       "      <th>geolocation_lng</th>\n",
       "      <th>geolocation_city</th>\n",
       "      <th>geolocation_state</th>\n",
       "    </tr>\n",
       "  </thead>\n",
       "  <tbody>\n",
       "    <tr>\n",
       "      <th>0</th>\n",
       "      <td>06b8999e2fba1a1fbc88172c00ba8bc7</td>\n",
       "      <td>861eff4711a542e4b93843c6dd7febb0</td>\n",
       "      <td>14409</td>\n",
       "      <td>franca</td>\n",
       "      <td>SP</td>\n",
       "      <td>14409</td>\n",
       "      <td>-20.509897</td>\n",
       "      <td>-47.397866</td>\n",
       "      <td>franca</td>\n",
       "      <td>SP</td>\n",
       "    </tr>\n",
       "    <tr>\n",
       "      <th>1</th>\n",
       "      <td>18955e83d337fd6b2def6b18a428ac77</td>\n",
       "      <td>290c77bc529b7ac935b93aa66c333dc3</td>\n",
       "      <td>09790</td>\n",
       "      <td>sao bernardo do campo</td>\n",
       "      <td>SP</td>\n",
       "      <td>09790</td>\n",
       "      <td>-23.726853</td>\n",
       "      <td>-46.545746</td>\n",
       "      <td>sao bernardo do campo</td>\n",
       "      <td>SP</td>\n",
       "    </tr>\n",
       "    <tr>\n",
       "      <th>2</th>\n",
       "      <td>4e7b3e00288586ebd08712fdd0374a03</td>\n",
       "      <td>060e732b5b29e8181a18229c7b0b2b5e</td>\n",
       "      <td>01151</td>\n",
       "      <td>sao paulo</td>\n",
       "      <td>SP</td>\n",
       "      <td>01151</td>\n",
       "      <td>-23.527788</td>\n",
       "      <td>-46.660310</td>\n",
       "      <td>sao paulo</td>\n",
       "      <td>SP</td>\n",
       "    </tr>\n",
       "    <tr>\n",
       "      <th>3</th>\n",
       "      <td>b2b6027bc5c5109e529d4dc6358b12c3</td>\n",
       "      <td>259dac757896d24d7702b9acbbff3f3c</td>\n",
       "      <td>08775</td>\n",
       "      <td>mogi das cruzes</td>\n",
       "      <td>SP</td>\n",
       "      <td>08775</td>\n",
       "      <td>-23.496930</td>\n",
       "      <td>-46.185352</td>\n",
       "      <td>mogi das cruzes</td>\n",
       "      <td>SP</td>\n",
       "    </tr>\n",
       "    <tr>\n",
       "      <th>4</th>\n",
       "      <td>4f2d8ab171c80ec8364f7c12e35b23ad</td>\n",
       "      <td>345ecd01c38d18a9036ed96c73b8d066</td>\n",
       "      <td>13056</td>\n",
       "      <td>campinas</td>\n",
       "      <td>SP</td>\n",
       "      <td>13056</td>\n",
       "      <td>-22.987222</td>\n",
       "      <td>-47.151073</td>\n",
       "      <td>campinas</td>\n",
       "      <td>SP</td>\n",
       "    </tr>\n",
       "  </tbody>\n",
       "</table>\n",
       "</div>"
      ],
      "text/plain": [
       "                        customer_id                customer_unique_id  \\\n",
       "0  06b8999e2fba1a1fbc88172c00ba8bc7  861eff4711a542e4b93843c6dd7febb0   \n",
       "1  18955e83d337fd6b2def6b18a428ac77  290c77bc529b7ac935b93aa66c333dc3   \n",
       "2  4e7b3e00288586ebd08712fdd0374a03  060e732b5b29e8181a18229c7b0b2b5e   \n",
       "3  b2b6027bc5c5109e529d4dc6358b12c3  259dac757896d24d7702b9acbbff3f3c   \n",
       "4  4f2d8ab171c80ec8364f7c12e35b23ad  345ecd01c38d18a9036ed96c73b8d066   \n",
       "\n",
       "  customer_zip_code_prefix          customer_city customer_state  \\\n",
       "0                    14409                 franca             SP   \n",
       "1                    09790  sao bernardo do campo             SP   \n",
       "2                    01151              sao paulo             SP   \n",
       "3                    08775        mogi das cruzes             SP   \n",
       "4                    13056               campinas             SP   \n",
       "\n",
       "  geolocation_zip_code_prefix  geolocation_lat  geolocation_lng  \\\n",
       "0                       14409       -20.509897       -47.397866   \n",
       "1                       09790       -23.726853       -46.545746   \n",
       "2                       01151       -23.527788       -46.660310   \n",
       "3                       08775       -23.496930       -46.185352   \n",
       "4                       13056       -22.987222       -47.151073   \n",
       "\n",
       "        geolocation_city geolocation_state  \n",
       "0                 franca                SP  \n",
       "1  sao bernardo do campo                SP  \n",
       "2              sao paulo                SP  \n",
       "3        mogi das cruzes                SP  \n",
       "4               campinas                SP  "
      ]
     },
     "execution_count": 81,
     "metadata": {},
     "output_type": "execute_result"
    }
   ],
   "source": [
    "customers_geolocation.head()"
   ]
  },
  {
   "cell_type": "markdown",
   "metadata": {},
   "source": [
    "### 4.2 Clientes + geolocalización + nombre del estado donde viven\n",
    "\n",
    "Ahora repetiremos un proceso análogo pero con los nombres del estado donde viven los customers"
   ]
  },
  {
   "cell_type": "code",
   "execution_count": 88,
   "metadata": {},
   "outputs": [],
   "source": [
    "# Une los dataframe customers_geolocation y states_abbreviations\n",
    "\n",
    "unique_states = states_abbreviations.drop_duplicates(\n",
    "    subset = ['state_name']\n",
    "    )\n",
    "    \n",
    "customers_geolocation_estado = customers_geolocation.merge(\n",
    "    unique_states,\n",
    "    left_on='geolocation_state',\n",
    "    right_on='abbreviation',\n",
    "    how='left'\n",
    ")"
   ]
  },
  {
   "cell_type": "code",
   "execution_count": 89,
   "metadata": {},
   "outputs": [
    {
     "data": {
      "text/html": [
       "<div>\n",
       "<style scoped>\n",
       "    .dataframe tbody tr th:only-of-type {\n",
       "        vertical-align: middle;\n",
       "    }\n",
       "\n",
       "    .dataframe tbody tr th {\n",
       "        vertical-align: top;\n",
       "    }\n",
       "\n",
       "    .dataframe thead th {\n",
       "        text-align: right;\n",
       "    }\n",
       "</style>\n",
       "<table border=\"1\" class=\"dataframe\">\n",
       "  <thead>\n",
       "    <tr style=\"text-align: right;\">\n",
       "      <th></th>\n",
       "      <th>customer_id</th>\n",
       "      <th>customer_unique_id</th>\n",
       "      <th>customer_zip_code_prefix</th>\n",
       "      <th>customer_city</th>\n",
       "      <th>customer_state</th>\n",
       "      <th>geolocation_zip_code_prefix</th>\n",
       "      <th>geolocation_lat</th>\n",
       "      <th>geolocation_lng</th>\n",
       "      <th>geolocation_city</th>\n",
       "      <th>geolocation_state</th>\n",
       "      <th>abbreviation</th>\n",
       "      <th>state_name</th>\n",
       "    </tr>\n",
       "  </thead>\n",
       "  <tbody>\n",
       "    <tr>\n",
       "      <th>0</th>\n",
       "      <td>06b8999e2fba1a1fbc88172c00ba8bc7</td>\n",
       "      <td>861eff4711a542e4b93843c6dd7febb0</td>\n",
       "      <td>14409</td>\n",
       "      <td>franca</td>\n",
       "      <td>SP</td>\n",
       "      <td>14409</td>\n",
       "      <td>-20.509897</td>\n",
       "      <td>-47.397866</td>\n",
       "      <td>franca</td>\n",
       "      <td>SP</td>\n",
       "      <td>SP</td>\n",
       "      <td>São Paulo</td>\n",
       "    </tr>\n",
       "    <tr>\n",
       "      <th>1</th>\n",
       "      <td>18955e83d337fd6b2def6b18a428ac77</td>\n",
       "      <td>290c77bc529b7ac935b93aa66c333dc3</td>\n",
       "      <td>09790</td>\n",
       "      <td>sao bernardo do campo</td>\n",
       "      <td>SP</td>\n",
       "      <td>09790</td>\n",
       "      <td>-23.726853</td>\n",
       "      <td>-46.545746</td>\n",
       "      <td>sao bernardo do campo</td>\n",
       "      <td>SP</td>\n",
       "      <td>SP</td>\n",
       "      <td>São Paulo</td>\n",
       "    </tr>\n",
       "    <tr>\n",
       "      <th>2</th>\n",
       "      <td>4e7b3e00288586ebd08712fdd0374a03</td>\n",
       "      <td>060e732b5b29e8181a18229c7b0b2b5e</td>\n",
       "      <td>01151</td>\n",
       "      <td>sao paulo</td>\n",
       "      <td>SP</td>\n",
       "      <td>01151</td>\n",
       "      <td>-23.527788</td>\n",
       "      <td>-46.660310</td>\n",
       "      <td>sao paulo</td>\n",
       "      <td>SP</td>\n",
       "      <td>SP</td>\n",
       "      <td>São Paulo</td>\n",
       "    </tr>\n",
       "    <tr>\n",
       "      <th>3</th>\n",
       "      <td>b2b6027bc5c5109e529d4dc6358b12c3</td>\n",
       "      <td>259dac757896d24d7702b9acbbff3f3c</td>\n",
       "      <td>08775</td>\n",
       "      <td>mogi das cruzes</td>\n",
       "      <td>SP</td>\n",
       "      <td>08775</td>\n",
       "      <td>-23.496930</td>\n",
       "      <td>-46.185352</td>\n",
       "      <td>mogi das cruzes</td>\n",
       "      <td>SP</td>\n",
       "      <td>SP</td>\n",
       "      <td>São Paulo</td>\n",
       "    </tr>\n",
       "    <tr>\n",
       "      <th>4</th>\n",
       "      <td>4f2d8ab171c80ec8364f7c12e35b23ad</td>\n",
       "      <td>345ecd01c38d18a9036ed96c73b8d066</td>\n",
       "      <td>13056</td>\n",
       "      <td>campinas</td>\n",
       "      <td>SP</td>\n",
       "      <td>13056</td>\n",
       "      <td>-22.987222</td>\n",
       "      <td>-47.151073</td>\n",
       "      <td>campinas</td>\n",
       "      <td>SP</td>\n",
       "      <td>SP</td>\n",
       "      <td>São Paulo</td>\n",
       "    </tr>\n",
       "    <tr>\n",
       "      <th>...</th>\n",
       "      <td>...</td>\n",
       "      <td>...</td>\n",
       "      <td>...</td>\n",
       "      <td>...</td>\n",
       "      <td>...</td>\n",
       "      <td>...</td>\n",
       "      <td>...</td>\n",
       "      <td>...</td>\n",
       "      <td>...</td>\n",
       "      <td>...</td>\n",
       "      <td>...</td>\n",
       "      <td>...</td>\n",
       "    </tr>\n",
       "    <tr>\n",
       "      <th>99436</th>\n",
       "      <td>17ddf5dd5d51696bb3d7c6291687be6f</td>\n",
       "      <td>1a29b476fee25c95fbafc67c5ac95cf8</td>\n",
       "      <td>03937</td>\n",
       "      <td>sao paulo</td>\n",
       "      <td>SP</td>\n",
       "      <td>03937</td>\n",
       "      <td>-23.587901</td>\n",
       "      <td>-46.501830</td>\n",
       "      <td>são paulo</td>\n",
       "      <td>SP</td>\n",
       "      <td>SP</td>\n",
       "      <td>São Paulo</td>\n",
       "    </tr>\n",
       "    <tr>\n",
       "      <th>99437</th>\n",
       "      <td>e7b71a9017aa05c9a7fd292d714858e8</td>\n",
       "      <td>d52a67c98be1cf6a5c84435bd38d095d</td>\n",
       "      <td>06764</td>\n",
       "      <td>taboao da serra</td>\n",
       "      <td>SP</td>\n",
       "      <td>06764</td>\n",
       "      <td>-23.612294</td>\n",
       "      <td>-46.765787</td>\n",
       "      <td>taboao da serra</td>\n",
       "      <td>SP</td>\n",
       "      <td>SP</td>\n",
       "      <td>São Paulo</td>\n",
       "    </tr>\n",
       "    <tr>\n",
       "      <th>99438</th>\n",
       "      <td>5e28dfe12db7fb50a4b2f691faecea5e</td>\n",
       "      <td>e9f50caf99f032f0bf3c55141f019d99</td>\n",
       "      <td>60115</td>\n",
       "      <td>fortaleza</td>\n",
       "      <td>CE</td>\n",
       "      <td>60115</td>\n",
       "      <td>-3.744128</td>\n",
       "      <td>-38.510859</td>\n",
       "      <td>fortaleza</td>\n",
       "      <td>CE</td>\n",
       "      <td>CE</td>\n",
       "      <td>Ceará</td>\n",
       "    </tr>\n",
       "    <tr>\n",
       "      <th>99439</th>\n",
       "      <td>56b18e2166679b8a959d72dd06da27f9</td>\n",
       "      <td>73c2643a0a458b49f58cea58833b192e</td>\n",
       "      <td>92120</td>\n",
       "      <td>canoas</td>\n",
       "      <td>RS</td>\n",
       "      <td>92120</td>\n",
       "      <td>-29.956391</td>\n",
       "      <td>-51.167614</td>\n",
       "      <td>canoas</td>\n",
       "      <td>RS</td>\n",
       "      <td>RS</td>\n",
       "      <td>Rio Grande do Sul</td>\n",
       "    </tr>\n",
       "    <tr>\n",
       "      <th>99440</th>\n",
       "      <td>274fa6071e5e17fe303b9748641082c8</td>\n",
       "      <td>84732c5050c01db9b23e19ba39899398</td>\n",
       "      <td>06703</td>\n",
       "      <td>cotia</td>\n",
       "      <td>SP</td>\n",
       "      <td>06703</td>\n",
       "      <td>-23.593985</td>\n",
       "      <td>-46.910591</td>\n",
       "      <td>cotia</td>\n",
       "      <td>SP</td>\n",
       "      <td>SP</td>\n",
       "      <td>São Paulo</td>\n",
       "    </tr>\n",
       "  </tbody>\n",
       "</table>\n",
       "<p>99441 rows × 12 columns</p>\n",
       "</div>"
      ],
      "text/plain": [
       "                            customer_id                customer_unique_id  \\\n",
       "0      06b8999e2fba1a1fbc88172c00ba8bc7  861eff4711a542e4b93843c6dd7febb0   \n",
       "1      18955e83d337fd6b2def6b18a428ac77  290c77bc529b7ac935b93aa66c333dc3   \n",
       "2      4e7b3e00288586ebd08712fdd0374a03  060e732b5b29e8181a18229c7b0b2b5e   \n",
       "3      b2b6027bc5c5109e529d4dc6358b12c3  259dac757896d24d7702b9acbbff3f3c   \n",
       "4      4f2d8ab171c80ec8364f7c12e35b23ad  345ecd01c38d18a9036ed96c73b8d066   \n",
       "...                                 ...                               ...   \n",
       "99436  17ddf5dd5d51696bb3d7c6291687be6f  1a29b476fee25c95fbafc67c5ac95cf8   \n",
       "99437  e7b71a9017aa05c9a7fd292d714858e8  d52a67c98be1cf6a5c84435bd38d095d   \n",
       "99438  5e28dfe12db7fb50a4b2f691faecea5e  e9f50caf99f032f0bf3c55141f019d99   \n",
       "99439  56b18e2166679b8a959d72dd06da27f9  73c2643a0a458b49f58cea58833b192e   \n",
       "99440  274fa6071e5e17fe303b9748641082c8  84732c5050c01db9b23e19ba39899398   \n",
       "\n",
       "      customer_zip_code_prefix          customer_city customer_state  \\\n",
       "0                        14409                 franca             SP   \n",
       "1                        09790  sao bernardo do campo             SP   \n",
       "2                        01151              sao paulo             SP   \n",
       "3                        08775        mogi das cruzes             SP   \n",
       "4                        13056               campinas             SP   \n",
       "...                        ...                    ...            ...   \n",
       "99436                    03937              sao paulo             SP   \n",
       "99437                    06764        taboao da serra             SP   \n",
       "99438                    60115              fortaleza             CE   \n",
       "99439                    92120                 canoas             RS   \n",
       "99440                    06703                  cotia             SP   \n",
       "\n",
       "      geolocation_zip_code_prefix  geolocation_lat  geolocation_lng  \\\n",
       "0                           14409       -20.509897       -47.397866   \n",
       "1                           09790       -23.726853       -46.545746   \n",
       "2                           01151       -23.527788       -46.660310   \n",
       "3                           08775       -23.496930       -46.185352   \n",
       "4                           13056       -22.987222       -47.151073   \n",
       "...                           ...              ...              ...   \n",
       "99436                       03937       -23.587901       -46.501830   \n",
       "99437                       06764       -23.612294       -46.765787   \n",
       "99438                       60115        -3.744128       -38.510859   \n",
       "99439                       92120       -29.956391       -51.167614   \n",
       "99440                       06703       -23.593985       -46.910591   \n",
       "\n",
       "            geolocation_city geolocation_state abbreviation         state_name  \n",
       "0                     franca                SP           SP          São Paulo  \n",
       "1      sao bernardo do campo                SP           SP          São Paulo  \n",
       "2                  sao paulo                SP           SP          São Paulo  \n",
       "3            mogi das cruzes                SP           SP          São Paulo  \n",
       "4                   campinas                SP           SP          São Paulo  \n",
       "...                      ...               ...          ...                ...  \n",
       "99436              são paulo                SP           SP          São Paulo  \n",
       "99437        taboao da serra                SP           SP          São Paulo  \n",
       "99438              fortaleza                CE           CE              Ceará  \n",
       "99439                 canoas                RS           RS  Rio Grande do Sul  \n",
       "99440                  cotia                SP           SP          São Paulo  \n",
       "\n",
       "[99441 rows x 12 columns]"
      ]
     },
     "execution_count": 89,
     "metadata": {},
     "output_type": "execute_result"
    }
   ],
   "source": [
    "customers_geolocation_estado"
   ]
  },
  {
   "cell_type": "markdown",
   "metadata": {},
   "source": [
    "### 4.3 Órdenes + total de artículos y precios"
   ]
  },
  {
   "cell_type": "code",
   "execution_count": 97,
   "metadata": {},
   "outputs": [],
   "source": [
    "# une los dataframe orders y items_agg por order_id\n",
    "orders_totals = orders.merge(\n",
    "    items_agg,\n",
    "    on='order_id',\n",
    "    how='left'\n",
    "    )"
   ]
  },
  {
   "cell_type": "code",
   "execution_count": 118,
   "metadata": {},
   "outputs": [
    {
     "data": {
      "text/html": [
       "<div>\n",
       "<style scoped>\n",
       "    .dataframe tbody tr th:only-of-type {\n",
       "        vertical-align: middle;\n",
       "    }\n",
       "\n",
       "    .dataframe tbody tr th {\n",
       "        vertical-align: top;\n",
       "    }\n",
       "\n",
       "    .dataframe thead th {\n",
       "        text-align: right;\n",
       "    }\n",
       "</style>\n",
       "<table border=\"1\" class=\"dataframe\">\n",
       "  <thead>\n",
       "    <tr style=\"text-align: right;\">\n",
       "      <th></th>\n",
       "      <th>order_id</th>\n",
       "      <th>customer_id</th>\n",
       "      <th>order_status</th>\n",
       "      <th>order_purchase_timestamp</th>\n",
       "      <th>order_approved_at</th>\n",
       "      <th>order_delivered_carrier_date</th>\n",
       "      <th>order_delivered_customer_date</th>\n",
       "      <th>order_estimated_delivery_date</th>\n",
       "      <th>distance_distribution_center</th>\n",
       "      <th>year</th>\n",
       "      <th>month</th>\n",
       "      <th>quarter</th>\n",
       "      <th>year_month</th>\n",
       "      <th>delta_days</th>\n",
       "      <th>delay_status</th>\n",
       "      <th>total_products</th>\n",
       "      <th>total_sales</th>\n",
       "    </tr>\n",
       "  </thead>\n",
       "  <tbody>\n",
       "    <tr>\n",
       "      <th>0</th>\n",
       "      <td>e481f51cbdc54678b7cc49136f2d6af7</td>\n",
       "      <td>9ef432eb6251297304e76186b10a928d</td>\n",
       "      <td>delivered</td>\n",
       "      <td>2017-10-02 10:56:33</td>\n",
       "      <td>2017-10-02 11:07:15</td>\n",
       "      <td>2017-10-04 19:55:00</td>\n",
       "      <td>2017-10-10 21:25:13</td>\n",
       "      <td>2017-10-18</td>\n",
       "      <td>29.84</td>\n",
       "      <td>2017</td>\n",
       "      <td>10</td>\n",
       "      <td>2017Q4</td>\n",
       "      <td>2017-10</td>\n",
       "      <td>-7.107488</td>\n",
       "      <td>on_time</td>\n",
       "      <td>1.0</td>\n",
       "      <td>29.99</td>\n",
       "    </tr>\n",
       "    <tr>\n",
       "      <th>1</th>\n",
       "      <td>53cdb2fc8bc7dce0b6741e2150273451</td>\n",
       "      <td>b0830fb4747a6c6d20dea0b8c802d7ef</td>\n",
       "      <td>delivered</td>\n",
       "      <td>2018-07-24 20:41:37</td>\n",
       "      <td>2018-07-26 03:24:27</td>\n",
       "      <td>2018-07-26 14:31:00</td>\n",
       "      <td>2018-08-07 15:27:45</td>\n",
       "      <td>2018-08-13</td>\n",
       "      <td>25.53</td>\n",
       "      <td>2018</td>\n",
       "      <td>7</td>\n",
       "      <td>2018Q3</td>\n",
       "      <td>2018-07</td>\n",
       "      <td>-5.355729</td>\n",
       "      <td>on_time</td>\n",
       "      <td>1.0</td>\n",
       "      <td>118.70</td>\n",
       "    </tr>\n",
       "    <tr>\n",
       "      <th>2</th>\n",
       "      <td>47770eb9100c2d0c44946d9cf07ec65d</td>\n",
       "      <td>41ce2a54c0b03bf3443c3d931a367089</td>\n",
       "      <td>delivered</td>\n",
       "      <td>2018-08-08 08:38:49</td>\n",
       "      <td>2018-08-08 08:55:23</td>\n",
       "      <td>2018-08-08 13:50:00</td>\n",
       "      <td>2018-08-17 18:06:29</td>\n",
       "      <td>2018-09-04</td>\n",
       "      <td>61.56</td>\n",
       "      <td>2018</td>\n",
       "      <td>8</td>\n",
       "      <td>2018Q3</td>\n",
       "      <td>2018-08</td>\n",
       "      <td>-17.245498</td>\n",
       "      <td>on_time</td>\n",
       "      <td>1.0</td>\n",
       "      <td>159.90</td>\n",
       "    </tr>\n",
       "    <tr>\n",
       "      <th>3</th>\n",
       "      <td>949d5b44dbf5de918fe9c16f97b45f8a</td>\n",
       "      <td>f88197465ea7920adcdbec7375364d82</td>\n",
       "      <td>delivered</td>\n",
       "      <td>2017-11-18 19:28:06</td>\n",
       "      <td>2017-11-18 19:45:59</td>\n",
       "      <td>2017-11-22 13:39:59</td>\n",
       "      <td>2017-12-02 00:28:42</td>\n",
       "      <td>2017-12-15</td>\n",
       "      <td>60.30</td>\n",
       "      <td>2017</td>\n",
       "      <td>11</td>\n",
       "      <td>2017Q4</td>\n",
       "      <td>2017-11</td>\n",
       "      <td>-12.980069</td>\n",
       "      <td>on_time</td>\n",
       "      <td>1.0</td>\n",
       "      <td>45.00</td>\n",
       "    </tr>\n",
       "    <tr>\n",
       "      <th>4</th>\n",
       "      <td>ad21c59c0840e6cb83a9ceb5573f8159</td>\n",
       "      <td>8ab97904e6daea8866dbdbc4fb7aad2c</td>\n",
       "      <td>delivered</td>\n",
       "      <td>2018-02-13 21:18:39</td>\n",
       "      <td>2018-02-13 22:20:29</td>\n",
       "      <td>2018-02-14 19:46:34</td>\n",
       "      <td>2018-02-16 18:17:02</td>\n",
       "      <td>2018-02-26</td>\n",
       "      <td>80.97</td>\n",
       "      <td>2018</td>\n",
       "      <td>2</td>\n",
       "      <td>2018Q1</td>\n",
       "      <td>2018-02</td>\n",
       "      <td>-9.238171</td>\n",
       "      <td>on_time</td>\n",
       "      <td>1.0</td>\n",
       "      <td>19.90</td>\n",
       "    </tr>\n",
       "    <tr>\n",
       "      <th>...</th>\n",
       "      <td>...</td>\n",
       "      <td>...</td>\n",
       "      <td>...</td>\n",
       "      <td>...</td>\n",
       "      <td>...</td>\n",
       "      <td>...</td>\n",
       "      <td>...</td>\n",
       "      <td>...</td>\n",
       "      <td>...</td>\n",
       "      <td>...</td>\n",
       "      <td>...</td>\n",
       "      <td>...</td>\n",
       "      <td>...</td>\n",
       "      <td>...</td>\n",
       "      <td>...</td>\n",
       "      <td>...</td>\n",
       "      <td>...</td>\n",
       "    </tr>\n",
       "    <tr>\n",
       "      <th>99436</th>\n",
       "      <td>9c5dedf39a927c1b2549525ed64a053c</td>\n",
       "      <td>39bd1228ee8140590ac3aca26f2dfe00</td>\n",
       "      <td>delivered</td>\n",
       "      <td>2017-03-09 09:54:05</td>\n",
       "      <td>2017-03-09 09:54:05</td>\n",
       "      <td>2017-03-10 11:18:03</td>\n",
       "      <td>2017-03-17 15:08:01</td>\n",
       "      <td>2017-03-28</td>\n",
       "      <td>68.26</td>\n",
       "      <td>2017</td>\n",
       "      <td>3</td>\n",
       "      <td>2017Q1</td>\n",
       "      <td>2017-03</td>\n",
       "      <td>-10.369433</td>\n",
       "      <td>on_time</td>\n",
       "      <td>1.0</td>\n",
       "      <td>72.00</td>\n",
       "    </tr>\n",
       "    <tr>\n",
       "      <th>99437</th>\n",
       "      <td>63943bddc261676b46f01ca7ac2f7bd8</td>\n",
       "      <td>1fca14ff2861355f6e5f14306ff977a7</td>\n",
       "      <td>delivered</td>\n",
       "      <td>2018-02-06 12:58:58</td>\n",
       "      <td>2018-02-06 13:10:37</td>\n",
       "      <td>2018-02-07 23:22:42</td>\n",
       "      <td>2018-02-28 17:37:56</td>\n",
       "      <td>2018-03-02</td>\n",
       "      <td>14.92</td>\n",
       "      <td>2018</td>\n",
       "      <td>2</td>\n",
       "      <td>2018Q1</td>\n",
       "      <td>2018-02</td>\n",
       "      <td>-1.265324</td>\n",
       "      <td>on_time</td>\n",
       "      <td>1.0</td>\n",
       "      <td>174.90</td>\n",
       "    </tr>\n",
       "    <tr>\n",
       "      <th>99438</th>\n",
       "      <td>83c1379a015df1e13d02aae0204711ab</td>\n",
       "      <td>1aa71eb042121263aafbe80c1b562c9c</td>\n",
       "      <td>delivered</td>\n",
       "      <td>2017-08-27 14:46:43</td>\n",
       "      <td>2017-08-27 15:04:16</td>\n",
       "      <td>2017-08-28 20:52:26</td>\n",
       "      <td>2017-09-21 11:24:17</td>\n",
       "      <td>2017-09-27</td>\n",
       "      <td>36.37</td>\n",
       "      <td>2017</td>\n",
       "      <td>8</td>\n",
       "      <td>2017Q3</td>\n",
       "      <td>2017-08</td>\n",
       "      <td>-5.524803</td>\n",
       "      <td>on_time</td>\n",
       "      <td>1.0</td>\n",
       "      <td>205.99</td>\n",
       "    </tr>\n",
       "    <tr>\n",
       "      <th>99439</th>\n",
       "      <td>11c177c8e97725db2631073c19f07b62</td>\n",
       "      <td>b331b74b18dc79bcdf6532d51e1637c1</td>\n",
       "      <td>delivered</td>\n",
       "      <td>2018-01-08 21:28:27</td>\n",
       "      <td>2018-01-08 21:36:21</td>\n",
       "      <td>2018-01-12 15:35:03</td>\n",
       "      <td>2018-01-25 23:32:54</td>\n",
       "      <td>2018-02-15</td>\n",
       "      <td>32.04</td>\n",
       "      <td>2018</td>\n",
       "      <td>1</td>\n",
       "      <td>2018Q1</td>\n",
       "      <td>2018-01</td>\n",
       "      <td>-20.018819</td>\n",
       "      <td>on_time</td>\n",
       "      <td>2.0</td>\n",
       "      <td>359.98</td>\n",
       "    </tr>\n",
       "    <tr>\n",
       "      <th>99440</th>\n",
       "      <td>66dea50a8b16d9b4dee7af250b4be1a5</td>\n",
       "      <td>edb027a75a1449115f6b43211ae02a24</td>\n",
       "      <td>delivered</td>\n",
       "      <td>2018-03-08 20:57:30</td>\n",
       "      <td>2018-03-09 11:20:28</td>\n",
       "      <td>2018-03-09 22:11:59</td>\n",
       "      <td>2018-03-16 13:08:30</td>\n",
       "      <td>2018-04-03</td>\n",
       "      <td>3.54</td>\n",
       "      <td>2018</td>\n",
       "      <td>3</td>\n",
       "      <td>2018Q1</td>\n",
       "      <td>2018-03</td>\n",
       "      <td>-17.452431</td>\n",
       "      <td>on_time</td>\n",
       "      <td>1.0</td>\n",
       "      <td>68.50</td>\n",
       "    </tr>\n",
       "  </tbody>\n",
       "</table>\n",
       "<p>99441 rows × 17 columns</p>\n",
       "</div>"
      ],
      "text/plain": [
       "                               order_id                       customer_id  \\\n",
       "0      e481f51cbdc54678b7cc49136f2d6af7  9ef432eb6251297304e76186b10a928d   \n",
       "1      53cdb2fc8bc7dce0b6741e2150273451  b0830fb4747a6c6d20dea0b8c802d7ef   \n",
       "2      47770eb9100c2d0c44946d9cf07ec65d  41ce2a54c0b03bf3443c3d931a367089   \n",
       "3      949d5b44dbf5de918fe9c16f97b45f8a  f88197465ea7920adcdbec7375364d82   \n",
       "4      ad21c59c0840e6cb83a9ceb5573f8159  8ab97904e6daea8866dbdbc4fb7aad2c   \n",
       "...                                 ...                               ...   \n",
       "99436  9c5dedf39a927c1b2549525ed64a053c  39bd1228ee8140590ac3aca26f2dfe00   \n",
       "99437  63943bddc261676b46f01ca7ac2f7bd8  1fca14ff2861355f6e5f14306ff977a7   \n",
       "99438  83c1379a015df1e13d02aae0204711ab  1aa71eb042121263aafbe80c1b562c9c   \n",
       "99439  11c177c8e97725db2631073c19f07b62  b331b74b18dc79bcdf6532d51e1637c1   \n",
       "99440  66dea50a8b16d9b4dee7af250b4be1a5  edb027a75a1449115f6b43211ae02a24   \n",
       "\n",
       "      order_status order_purchase_timestamp   order_approved_at  \\\n",
       "0        delivered      2017-10-02 10:56:33 2017-10-02 11:07:15   \n",
       "1        delivered      2018-07-24 20:41:37 2018-07-26 03:24:27   \n",
       "2        delivered      2018-08-08 08:38:49 2018-08-08 08:55:23   \n",
       "3        delivered      2017-11-18 19:28:06 2017-11-18 19:45:59   \n",
       "4        delivered      2018-02-13 21:18:39 2018-02-13 22:20:29   \n",
       "...            ...                      ...                 ...   \n",
       "99436    delivered      2017-03-09 09:54:05 2017-03-09 09:54:05   \n",
       "99437    delivered      2018-02-06 12:58:58 2018-02-06 13:10:37   \n",
       "99438    delivered      2017-08-27 14:46:43 2017-08-27 15:04:16   \n",
       "99439    delivered      2018-01-08 21:28:27 2018-01-08 21:36:21   \n",
       "99440    delivered      2018-03-08 20:57:30 2018-03-09 11:20:28   \n",
       "\n",
       "      order_delivered_carrier_date order_delivered_customer_date  \\\n",
       "0              2017-10-04 19:55:00           2017-10-10 21:25:13   \n",
       "1              2018-07-26 14:31:00           2018-08-07 15:27:45   \n",
       "2              2018-08-08 13:50:00           2018-08-17 18:06:29   \n",
       "3              2017-11-22 13:39:59           2017-12-02 00:28:42   \n",
       "4              2018-02-14 19:46:34           2018-02-16 18:17:02   \n",
       "...                            ...                           ...   \n",
       "99436          2017-03-10 11:18:03           2017-03-17 15:08:01   \n",
       "99437          2018-02-07 23:22:42           2018-02-28 17:37:56   \n",
       "99438          2017-08-28 20:52:26           2017-09-21 11:24:17   \n",
       "99439          2018-01-12 15:35:03           2018-01-25 23:32:54   \n",
       "99440          2018-03-09 22:11:59           2018-03-16 13:08:30   \n",
       "\n",
       "      order_estimated_delivery_date  distance_distribution_center  year  \\\n",
       "0                        2017-10-18                         29.84  2017   \n",
       "1                        2018-08-13                         25.53  2018   \n",
       "2                        2018-09-04                         61.56  2018   \n",
       "3                        2017-12-15                         60.30  2017   \n",
       "4                        2018-02-26                         80.97  2018   \n",
       "...                             ...                           ...   ...   \n",
       "99436                    2017-03-28                         68.26  2017   \n",
       "99437                    2018-03-02                         14.92  2018   \n",
       "99438                    2017-09-27                         36.37  2017   \n",
       "99439                    2018-02-15                         32.04  2018   \n",
       "99440                    2018-04-03                          3.54  2018   \n",
       "\n",
       "       month quarter year_month  delta_days delay_status  total_products  \\\n",
       "0         10  2017Q4    2017-10   -7.107488      on_time             1.0   \n",
       "1          7  2018Q3    2018-07   -5.355729      on_time             1.0   \n",
       "2          8  2018Q3    2018-08  -17.245498      on_time             1.0   \n",
       "3         11  2017Q4    2017-11  -12.980069      on_time             1.0   \n",
       "4          2  2018Q1    2018-02   -9.238171      on_time             1.0   \n",
       "...      ...     ...        ...         ...          ...             ...   \n",
       "99436      3  2017Q1    2017-03  -10.369433      on_time             1.0   \n",
       "99437      2  2018Q1    2018-02   -1.265324      on_time             1.0   \n",
       "99438      8  2017Q3    2017-08   -5.524803      on_time             1.0   \n",
       "99439      1  2018Q1    2018-01  -20.018819      on_time             2.0   \n",
       "99440      3  2018Q1    2018-03  -17.452431      on_time             1.0   \n",
       "\n",
       "       total_sales  \n",
       "0            29.99  \n",
       "1           118.70  \n",
       "2           159.90  \n",
       "3            45.00  \n",
       "4            19.90  \n",
       "...            ...  \n",
       "99436        72.00  \n",
       "99437       174.90  \n",
       "99438       205.99  \n",
       "99439       359.98  \n",
       "99440        68.50  \n",
       "\n",
       "[99441 rows x 17 columns]"
      ]
     },
     "execution_count": 118,
     "metadata": {},
     "output_type": "execute_result"
    }
   ],
   "source": [
    "orders_totals"
   ]
  },
  {
   "cell_type": "markdown",
   "metadata": {},
   "source": [
    "### 4.4 Clientes + geolocalización + nombre del estado donde viven + Órdenes + total de artículos y precios"
   ]
  },
  {
   "cell_type": "code",
   "execution_count": 98,
   "metadata": {},
   "outputs": [],
   "source": [
    "results = orders_totals.merge(\n",
    "    customers_geolocation_estado,\n",
    "    on=['customer_id'],\n",
    "    how='left'\n",
    "    )"
   ]
  },
  {
   "cell_type": "markdown",
   "metadata": {},
   "source": [
    "### 5. Entregables\n",
    "\n",
    "A. Realiza un script (`1_1_oilst_processed.py`)que procese la información de Olist en generando como output un archivo en `.csv` con los datos de las siguientes columnas:\n",
    "\n",
    "**Columns de Oilst**\n",
    "\n",
    "* order_id,\n",
    "* customer_id,\n",
    "* order_status,\n",
    "* order_purchase_timestamp,\n",
    "* order_approved_at,\n",
    "* order_delivered_carrier_date,\n",
    "* order_delivered_customer_date,\n",
    "* order_estimated_delivery_date,\n",
    "* distance_distribution_center,\n",
    "* delay_status,\n",
    "* total_products,\n",
    "* total_sales,\n",
    "* customer_unique_id,\n",
    "* customer_zip_code_prefix,\n",
    "* customer_city,\n",
    "* customer_state,\n",
    "* geolocation_zip_code_prefix,\n",
    "* geolocation_lat,\n",
    "* geolocation_lng,\n",
    "* geolocation_city,\n",
    "* geolocation_state,\n",
    "* abbreviation,\n",
    "* state_name\n",
    "\n",
    "**Columnas personalizadas en este notebook**\n",
    "\n",
    "* year,\n",
    "* month,\n",
    "* quarter,\n",
    "* year_month,\n",
    "* delta_days\n",
    "* delay_status.\n",
    "\n",
    "B. Entregar la tabla generada en el inciso A en formato `.csv`, nombrando al archivo como `oilst_processed.csv`."
   ]
  },
  {
   "cell_type": "markdown",
   "metadata": {},
   "source": [
    "Finalmente escribiremos el resultado en un archivo separado por comas `.csv`:"
   ]
  },
  {
   "cell_type": "code",
   "execution_count": 100,
   "metadata": {},
   "outputs": [],
   "source": [
    "# Completa el codigo\n",
    "results.to_csv(\n",
    "    # nombre del archivo\n",
    "    'olist_processed.cvs', \n",
    "    # flag para no escribir el indice del dataframe al csv\n",
    "    index=False\n",
    "    )"
   ]
  }
 ],
 "metadata": {
  "kernelspec": {
   "display_name": "Python 3 (ipykernel)",
   "language": "python",
   "name": "python3"
  },
  "language_info": {
   "codemirror_mode": {
    "name": "ipython",
    "version": 3
   },
   "file_extension": ".py",
   "mimetype": "text/x-python",
   "name": "python",
   "nbconvert_exporter": "python",
   "pygments_lexer": "ipython3",
   "version": "3.11.4"
  }
 },
 "nbformat": 4,
 "nbformat_minor": 2
}
